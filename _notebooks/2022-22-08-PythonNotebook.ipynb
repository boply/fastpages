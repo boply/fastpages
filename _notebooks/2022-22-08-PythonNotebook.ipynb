{
 "cells": [
  {
   "cell_type": "markdown",
   "id": "c7877282",
   "metadata": {},
   "source": [
    "# Python Notebook"
   ]
  },
  {
   "cell_type": "code",
   "execution_count": 1,
   "id": "da70e130",
   "metadata": {
    "vscode": {
     "languageId": "shellscript"
    }
   },
   "outputs": [
    {
     "name": "stdout",
     "output_type": "stream",
     "text": [
      "hello world\n"
     ]
    }
   ],
   "source": [
    "print(\"hello world\")"
   ]
  }
 ],
 "metadata": {
  "kernelspec": {
   "display_name": "Python 3 (ipykernel)",
   "language": "python",
   "name": "python3"
  },
  "language_info": {
   "codemirror_mode": {
    "name": "ipython",
    "version": 3
   },
   "file_extension": ".py",
   "mimetype": "text/x-python",
   "name": "python",
   "nbconvert_exporter": "python",
   "pygments_lexer": "ipython3",
   "version": "3.9.12"
  },
  "vscode": {
   "interpreter": {
    "hash": "b3b7c4b39c51acaa0ababaac78dafb28c940c1acd38600e6898f44bc93745552"
   }
  }
 },
 "nbformat": 4,
 "nbformat_minor": 5
}
