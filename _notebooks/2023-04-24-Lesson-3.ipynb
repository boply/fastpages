{
 "cells": [
  {
   "attachments": {},
   "cell_type": "markdown",
   "id": "1fd80d2f",
   "metadata": {},
   "source": [
    "# Lesson 3 Hacks\n",
    "> Hack and Homework for lesson 3.\n",
    "\n",
    "- toc: true \n",
    "- badges: true\n",
    "- comments: true\n",
    "- categories: [jupyter,java]"
   ]
  },
  {
   "attachments": {},
   "cell_type": "markdown",
   "id": "46d1320b",
   "metadata": {},
   "source": [
    "## Merge Sort Hack #1"
   ]
  },
  {
   "cell_type": "code",
   "execution_count": 7,
   "id": "04069ad5",
   "metadata": {
    "vscode": {
     "languageId": "java"
    }
   },
   "outputs": [],
   "source": [
    "void merge(String arr[], int l, int m, int r) {\n",
    "    // Find the sizes of two subarrays to be merged\n",
    "    int n1 = m - l + 1;\n",
    "    int n2 = r - m;\n",
    "\n",
    "    /* Create temp arrays */\n",
    "    String[] L = new String[n1];\n",
    "    String[] R = new String[n2];\n",
    "\n",
    "    /* Copy data to temp arrays */\n",
    "    for (int i = 0; i < n1; ++i)\n",
    "        L[i] = arr[l + i];\n",
    "    for (int j = 0; j < n2; ++j)\n",
    "        R[j] = arr[m + 1 + j];\n",
    "\n",
    "    /* Merge the temp arrays */\n",
    "\n",
    "    // Initial indexes of first and second subarrays\n",
    "    int i = 0, j = 0;\n",
    "\n",
    "    // Initial index of merged subarray array\n",
    "    int k = l;\n",
    "    while (i < n1 && j < n2) {\n",
    "        if (L[i].compareTo(R[j]) <= 0) {\n",
    "            arr[k] = L[i];\n",
    "            i++;\n",
    "        } else {\n",
    "            arr[k] = R[j];\n",
    "            j++;\n",
    "        }\n",
    "        k++;\n",
    "    }\n",
    "\n",
    "    /* Copy remaining elements of L[] if any */\n",
    "    while (i < n1) {\n",
    "        arr[k] = L[i];\n",
    "        i++;\n",
    "        k++;\n",
    "    }\n",
    "\n",
    "    /* Copy remaining elements of R[] if any */\n",
    "    while (j < n2) {\n",
    "        arr[k] = R[j];\n",
    "        j++;\n",
    "        k++;\n",
    "    }\n",
    "}\n"
   ]
  },
  {
   "attachments": {},
   "cell_type": "markdown",
   "id": "01350473",
   "metadata": {},
   "source": [
    "## Merge Sort Hack #2"
   ]
  },
  {
   "cell_type": "code",
   "execution_count": 35,
   "id": "fd868be0",
   "metadata": {
    "vscode": {
     "languageId": "java"
    }
   },
   "outputs": [
    {
     "name": "stdout",
     "output_type": "stream",
     "text": [
      "Before:[10, 7, 8, 9, 1, 5]\n",
      "After:[1, 5, 7, 8, 9, 10]\n"
     ]
    }
   ],
   "source": [
    "public class MergeSort {\n",
    "\n",
    "    public static void mergeSort(int[] arr, int left, int right) {\n",
    "        if (left < right) {\n",
    "            int mid = (left + right) / 2;\n",
    "            mergeSort(arr, left, mid);\n",
    "            mergeSort(arr, mid + 1, right);\n",
    "            merge(arr, left, mid, right);\n",
    "        }\n",
    "    }\n",
    "\n",
    "    public static void merge(int[] arr, int left, int mid, int right) {\n",
    "        int n1 = mid - left + 1;\n",
    "        int n2 = right - mid;\n",
    "\n",
    "        int[] leftArr = new int[n1];\n",
    "        int[] rightArr = new int[n2];\n",
    "\n",
    "        for (int i = 0; i < n1; i++) {\n",
    "            leftArr[i] = arr[left + i];\n",
    "        }\n",
    "        for (int j = 0; j < n2; j++) {\n",
    "            rightArr[j] = arr[mid + 1 + j];\n",
    "        }\n",
    "\n",
    "        int i = 0, j = 0, k = left;\n",
    "        while (i < n1 && j < n2) {\n",
    "            if (leftArr[i] <= rightArr[j]) {\n",
    "                arr[k] = leftArr[i];\n",
    "                i++;\n",
    "            } else {\n",
    "                arr[k] = rightArr[j];\n",
    "                j++;\n",
    "            }\n",
    "            k++;\n",
    "        }\n",
    "\n",
    "        while (i < n1) {\n",
    "            arr[k] = leftArr[i];\n",
    "            i++;\n",
    "            k++;\n",
    "        }\n",
    "\n",
    "        while (j < n2) {\n",
    "            arr[k] = rightArr[j];\n",
    "            j++;\n",
    "            k++;\n",
    "        }\n",
    "    }\n",
    "\n",
    "    public static void main(String[] args) {\n",
    "        int[] arr = {10, 7, 8, 9, 1, 5};\n",
    "        System.out.println(\"Before:\" + Arrays.toString(arr));\n",
    "        mergeSort(arr, 0, arr.length - 1);\n",
    "        System.out.println(\"After:\" + Arrays.toString(arr));\n",
    "    }\n",
    "}\n",
    "MergeSort.main(null);"
   ]
  },
  {
   "attachments": {},
   "cell_type": "markdown",
   "id": "b47e9521",
   "metadata": {},
   "source": [
    "## Binary Search Hack #1"
   ]
  },
  {
   "cell_type": "code",
   "execution_count": 2,
   "id": "7cd64387",
   "metadata": {
    "vscode": {
     "languageId": "java"
    }
   },
   "outputs": [
    {
     "name": "stdout",
     "output_type": "stream",
     "text": [
      "Element found at index: 6\n"
     ]
    }
   ],
   "source": [
    "public class BinarySearchRecursive {\n",
    "    public static int binarySearch(int[] arr, int x, int low, int high) {\n",
    "        if (low > high) {\n",
    "            return -1; // Element not found\n",
    "        }\n",
    "        \n",
    "        int mid = low + (high - low) / 2;\n",
    "        if (arr[mid] == x) {\n",
    "            return mid; // Element found at mid index\n",
    "        } else if (arr[mid] > x) {\n",
    "            return binarySearch(arr, x, low, mid - 1); // Search in left half\n",
    "        } else {\n",
    "            return binarySearch(arr, x, mid + 1, high); // Search in right half\n",
    "        }\n",
    "    }\n",
    "    \n",
    "    public static void main(String[] args) {\n",
    "        int[] arr = {1, 3, 5, 7, 9, 23, 45, 67};\n",
    "        int x = 45;\n",
    "        int index = binarySearch(arr, x, 0, arr.length - 1);\n",
    "        if (index == -1) {\n",
    "            System.out.println(\"Element not found in array\");\n",
    "        } else {\n",
    "            System.out.println(\"Element found at index: \" + index);\n",
    "        }\n",
    "    }\n",
    "}\n",
    "BinarySearchRecursive.main(null);"
   ]
  },
  {
   "attachments": {},
   "cell_type": "markdown",
   "id": "46addf76",
   "metadata": {},
   "source": [
    "## Binary Search Hack #2"
   ]
  },
  {
   "cell_type": "code",
   "execution_count": 3,
   "id": "c573d98e",
   "metadata": {
    "vscode": {
     "languageId": "java"
    }
   },
   "outputs": [
    {
     "name": "stdout",
     "output_type": "stream",
     "text": [
      "Element found at index: 6\n"
     ]
    }
   ],
   "source": [
    "public class MergeSortAndBinarySearch {\n",
    "    public static void main(String[] args) {\n",
    "        int[] array = {5, 6, 3, 1, 8, 9, 4, 7, 2};\n",
    "        int searchElement = 7;\n",
    "        \n",
    "        // Sort the array using merge sort\n",
    "        mergeSort(array, 0, array.length - 1);\n",
    "        \n",
    "        // Perform binary search on sorted array to find index of searchElement\n",
    "        int index = binarySearch(array, searchElement, 0, array.length - 1);\n",
    "        \n",
    "        if (index == -1) {\n",
    "            System.out.println(\"Element not found in array\");\n",
    "        } else {\n",
    "            System.out.println(\"Element found at index: \" + index);\n",
    "        }\n",
    "    }\n",
    "    \n",
    "    public static void mergeSort(int[] arr, int left, int right) {\n",
    "        if (left < right) {\n",
    "            int mid = left + (right - left) / 2;\n",
    "            \n",
    "            mergeSort(arr, left, mid);\n",
    "            mergeSort(arr, mid + 1, right);\n",
    "            \n",
    "            merge(arr, left, mid, right);\n",
    "        }\n",
    "    }\n",
    "    \n",
    "    public static void merge(int[] arr, int left, int mid, int right) {\n",
    "        int n1 = mid - left + 1;\n",
    "        int n2 = right - mid;\n",
    "        \n",
    "        int[] leftArr = new int[n1];\n",
    "        int[] rightArr = new int[n2];\n",
    "        \n",
    "        for (int i = 0; i < n1; i++) {\n",
    "            leftArr[i] = arr[left + i];\n",
    "        }\n",
    "        for (int j = 0; j < n2; j++) {\n",
    "            rightArr[j] = arr[mid + 1 + j];\n",
    "        }\n",
    "        \n",
    "        int i = 0, j = 0, k = left;\n",
    "        while (i < n1 && j < n2) {\n",
    "            if (leftArr[i] <= rightArr[j]) {\n",
    "                arr[k++] = leftArr[i++];\n",
    "            } else {\n",
    "                arr[k++] = rightArr[j++];\n",
    "            }\n",
    "        }\n",
    "        \n",
    "        while (i < n1) {\n",
    "            arr[k++] = leftArr[i++];\n",
    "        }\n",
    "        \n",
    "        while (j < n2) {\n",
    "            arr[k++] = rightArr[j++];\n",
    "        }\n",
    "    }\n",
    "    \n",
    "    public static int binarySearch(int[] arr, int x, int low, int high) {\n",
    "        if (low > high) {\n",
    "            return -1; // Element not found\n",
    "        }\n",
    "        \n",
    "        int mid = low + (high - low) / 2;\n",
    "        if (arr[mid] == x) {\n",
    "            return mid; // Element found at mid index\n",
    "        } else if (arr[mid] > x) {\n",
    "            return binarySearch(arr, x, low, mid - 1); // Search in left half\n",
    "        } else {\n",
    "            return binarySearch(arr, x, mid + 1, high); // Search in right half\n",
    "        }\n",
    "    }\n",
    "}\n",
    "MergeSortAndBinarySearch.main(null);"
   ]
  }
 ],
 "metadata": {
  "kernelspec": {
   "display_name": "Java",
   "language": "java",
   "name": "java"
  },
  "language_info": {
   "codemirror_mode": "java",
   "file_extension": ".jshell",
   "mimetype": "text/x-java-source",
   "name": "Java",
   "pygments_lexer": "java",
   "version": "17.0.5+9-LTS-191"
  }
 },
 "nbformat": 4,
 "nbformat_minor": 5
}
