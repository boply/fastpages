{
 "cells": [
  {
   "cell_type": "markdown",
   "id": "c7877282",
   "metadata": {},
   "source": [
    "# Python Notebook\n",
    "> A python notebook saying \"Hello World!\".\n",
    "\n",
    "- toc: true \n",
    "- badges: true\n",
    "- comments: true\n",
    "- categories: [jupyter,week-0]"
   ]
  },
  {
   "cell_type": "code",
   "execution_count": 2,
   "id": "da70e130",
   "metadata": {},
   "outputs": [
    {
     "name": "stdout",
     "output_type": "stream",
     "text": [
      "Hello World!\n"
     ]
    }
   ],
   "source": [
    "print(\"Hello World!\")"
   ]
  }
 ],
 "metadata": {
  "kernelspec": {
   "display_name": "Java",
   "language": "java",
   "name": "java"
  },
  "language_info": {
   "codemirror_mode": {
    "name": "ipython",
    "version": 3
   },
   "file_extension": ".py",
   "mimetype": "text/x-python",
   "name": "java",
   "nbconvert_exporter": "python",
   "pygments_lexer": "ipython3",
   "version": "3.9.12"
  },
  "vscode": {
   "interpreter": {
    "hash": "b3b7c4b39c51acaa0ababaac78dafb28c940c1acd38600e6898f44bc93745552"
   }
  }
 },
 "nbformat": 4,
 "nbformat_minor": 5
}
