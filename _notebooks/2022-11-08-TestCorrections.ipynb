{
 "cells": [
  {
   "cell_type": "markdown",
   "id": "1fd80d2f",
   "metadata": {},
   "source": [
    "# 2014 MCQ Test Corrections\n",
    "> Correcting wrong answers for the 2014 MCQ\n",
    "\n",
    "- toc: true \n",
    "- badges: true\n",
    "- comments: true\n",
    "- categories: [jupyter,week-11]"
   ]
  },
  {
   "cell_type": "markdown",
   "id": "1476164e",
   "metadata": {},
   "source": [
    "18. Generate random index for ArrayList\n",
    "\n",
    "b. (int) (Math.random() * myList.size())\n",
    "\n",
    "This answer can't be A which is the one I chose because it ends with a -1. This doesn't work in this context as it starts with index 0 rather than 1 which I made the mistake of assuming. I will improve on this in the future because I now know that the array.size starts at index 0."
   ]
  },
  {
   "cell_type": "markdown",
   "id": "1200c948",
   "metadata": {},
   "source": [
    "26. Print odd integers in 1D array but not even\n",
    "\n",
    "a. for (int x : arr)\n",
    "    if (x % 2 != 0)\n",
    "        System.out.println(x);\n",
    "\n",
    "Can't be C because you don't want to print the end result of the array index but instead print the number that is even. A is correct since it prints x instead of arr[x]. I will make sure to not have this problem arise in the future by paying more attention to the wording of the question."
   ]
  },
  {
   "cell_type": "markdown",
   "id": "80b403c0",
   "metadata": {},
   "source": [
    "27. Mystery Method with Int Parameter\n",
    "\n",
    "d. 8\n",
    "\n",
    "This is the correct answer over c because I simply did my arithmetic wrong. It's not really a matter of not understanding the material but rather my desire to finish the question in a timely manner. In order to prevent mistakes like this from happening on easy problems is to take my time which was also the problem for the last question."
   ]
  },
  {
   "cell_type": "markdown",
   "id": "4d754b79",
   "metadata": {},
   "source": [
    "29. Print values divisible by 4 using for loop\n",
    "\n",
    "e. for (int k = 4; k <= 100; k = k + 4)\n",
    "    System.out.println(k);\n",
    "\n",
    "This is the correct answer over B because I need to set the K value to 4 at the start of the for loop rather than 1 which was in the answer I chose. This is because rather than the starting lines of code it doesn't increment by 1 but rather 4. Therefore, k must start at 4. I can solve this issue in the future by again taking more time and thinking about the answer logically before choosing something. (I think there's a running theme with just small mistakes.)"
   ]
  }
 ],
 "metadata": {
  "kernelspec": {
   "display_name": "Java",
   "language": "java",
   "name": "java"
  },
  "language_info": {
   "codemirror_mode": "java",
   "file_extension": ".jshell",
   "mimetype": "text/x-java-source",
   "name": "java",
   "pygments_lexer": "java",
   "version": "18.0.2.1+1-1"
  }
 },
 "nbformat": 4,
 "nbformat_minor": 5
}
