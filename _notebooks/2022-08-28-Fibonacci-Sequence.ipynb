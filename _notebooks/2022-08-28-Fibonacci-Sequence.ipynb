{
 "cells": [
  {
   "cell_type": "markdown",
   "id": "1fd80d2f",
   "metadata": {},
   "source": [
    "# Fibonacci Sequence\n",
    "> A java notebook saying with Fibonacci Sequence.\n",
    "\n",
    "- toc: true \n",
    "- badges: true\n",
    "- comments: true\n",
    "- categories: [jupyter,week-1]"
   ]
  },
  {
   "cell_type": "code",
   "execution_count": 1,
   "id": "04069ad5",
   "metadata": {},
   "outputs": [
    {
     "name": "stdout",
     "output_type": "stream",
     "text": [
      "Type in amount of numbers for sequence  -->  0 1 1 2 3 5 8 13 21 34 55 89 144 233 377 610 987 1597 2584 4181 6765 10946 17711 28657 46368 "
     ]
    }
   ],
   "source": [
    "class Fibo {\n",
    "    public static void main(String[] args) {\n",
    "        Scanner input;\n",
    "\n",
    "        input = new Scanner(System.in);\n",
    "        System.out.print(\"Type in amount of numbers for sequence  -->  \");\n",
    "        try {\n",
    "            int N = input.nextInt();\n",
    "            int x1 = 0, x2 = 1;\n",
    "\n",
    "            int count = 0;\n",
    "\n",
    "            while (count < N) {\n",
    "\n",
    "                System.out.print(x1 + \" \");\n",
    "\n",
    "                int x3 = x2 + x1;\n",
    "                x1 = x2;\n",
    "                x2 = x3;\n",
    "                count = count + 1;\n",
    "            }\n",
    "\n",
    "\n",
    "        } catch (Exception e) {  \n",
    "            System.out.println(\"Input must be an integer  \" + e);\n",
    "        }\n",
    "        \n",
    "    }\n",
    "}\n",
    "Fibo.main(null)"
   ]
  }
 ],
 "metadata": {
  "kernelspec": {
   "display_name": "Java",
   "language": "java",
   "name": "java"
  },
  "language_info": {
   "codemirror_mode": "java",
   "file_extension": ".jshell",
   "mimetype": "text/x-java-source",
   "name": "java",
   "pygments_lexer": "java",
   "version": "18.0.2.1+1-1"
  }
 },
 "nbformat": 4,
 "nbformat_minor": 5
}
