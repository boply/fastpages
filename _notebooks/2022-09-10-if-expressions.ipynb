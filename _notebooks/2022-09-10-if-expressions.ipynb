{
 "cells": [
  {
   "cell_type": "markdown",
   "id": "1fd80d2f",
   "metadata": {},
   "source": [
    "# If and Expressions\n",
    "> Blog post about different coding elements.\n",
    "\n",
    "- toc: true \n",
    "- badges: true\n",
    "- comments: true\n",
    "- categories: [jupyter,week-3]"
   ]
  },
  {
   "cell_type": "markdown",
   "id": "2f31a05a",
   "metadata": {},
   "source": [
    "## If Statement\n",
    "\n",
    "- Runs a specific set of code if a condition is met.\n",
    "\n",
    "    - This conditions can be anything but it primarily composed of variables such as:\n",
    "        - Booleans\n",
    "        - Integers\n",
    "        - Floats\n",
    "        - Etc..."
   ]
  },
  {
   "cell_type": "code",
   "execution_count": null,
   "id": "04069ad5",
   "metadata": {
    "vscode": {
     "languageId": "java"
    }
   },
   "outputs": [],
   "source": [
    "if(condition) {\n",
    "\n",
    "    examplecode();\n",
    "    \n",
    "}"
   ]
  },
  {
   "cell_type": "markdown",
   "id": "35ae6a4a",
   "metadata": {},
   "source": [
    "## If/Else Statement\n",
    "\n",
    "- Runs a specific set of code if a condition is met. **OTHERWISE** if the condition is not met then it runs a separate set of code.\n",
    "\n",
    "    - This conditions can be anything but it primarily composed of variables such as:\n",
    "        - Booleans\n",
    "        - Integers\n",
    "        - Floats\n",
    "        - Etc..."
   ]
  },
  {
   "cell_type": "code",
   "execution_count": null,
   "id": "80ec6cfc",
   "metadata": {
    "vscode": {
     "languageId": "java"
    }
   },
   "outputs": [],
   "source": [
    "if(condition) {\n",
    "\n",
    "    runprimarycodehere();\n",
    "\n",
    "}else{\n",
    "\n",
    "    runsecondarycodehere();\n",
    "\n",
    "}"
   ]
  },
  {
   "cell_type": "markdown",
   "id": "10b7122e",
   "metadata": {},
   "source": [
    "## If/Else Example\n",
    "\n",
    "- This is an if statement testing if the variable is below 0. If it is below 0 then it prints a message stating it's negative. If it's not above 0 then it prints a message stating it's positive."
   ]
  },
  {
   "cell_type": "code",
   "execution_count": 18,
   "id": "966ad0ed",
   "metadata": {
    "vscode": {
     "languageId": "java"
    }
   },
   "outputs": [
    {
     "name": "stdout",
     "output_type": "stream",
     "text": [
      "Enter a number: 15\n",
      "15 is positive\n"
     ]
    }
   ],
   "source": [
    "import java.util.Scanner;\n",
    "Scanner scanner = new Scanner(System.in);\n",
    "\n",
    "int number;\n",
    "\n",
    "System.out.print(\"Enter a number: \");\n",
    "// Get input\n",
    "number = scanner.nextInt();\n",
    "\n",
    "System.out.println(number);\n",
    "// Check if number is less than 0\n",
    "if(number < 0) {\n",
    "\n",
    "    System.out.println(number + \" is negative\");\n",
    "\n",
    "}else{\n",
    "\n",
    "    System.out.println(number + \" is positive\");\n",
    "\n",
    "}"
   ]
  },
  {
   "cell_type": "markdown",
   "id": "3efeae6d",
   "metadata": {},
   "source": [
    "## If-elseIf-else Statement\n",
    "\n",
    "- Runs an if statement for a condition. If the condition is met then a set of code is run. If the condition is not met then a separate if statement is run. If that condition is met then a set of code is ran but if not then the else code is run.\n",
    "\n",
    "- In this example, we made the positive negative calculator more specific. It now tests if the number is 0 first. If it is then it states that it's not negative or positive. While if it's not then it tests if the number is greater than 0 in which case it's positive. If not then it's negative."
   ]
  },
  {
   "cell_type": "code",
   "execution_count": 25,
   "id": "c8ebe2b1",
   "metadata": {
    "vscode": {
     "languageId": "java"
    }
   },
   "outputs": [
    {
     "name": "stdout",
     "output_type": "stream",
     "text": [
      "Enter a number: -25\n",
      "-25 is negative\n"
     ]
    }
   ],
   "source": [
    "import java.util.Scanner;\n",
    "Scanner scanner = new Scanner(System.in);\n",
    "\n",
    "int number;\n",
    "\n",
    "System.out.print(\"Enter a number: \");\n",
    "\n",
    "number = scanner.nextInt();\n",
    "\n",
    "System.out.println(number);\n",
    "\n",
    "//Check if number equals 0\n",
    "if(number == 0) {\n",
    "\n",
    "    System.out.println(number + \" is not negative or positive\");\n",
    "    \n",
    "//If it doesn't then check if number is greater than 0.\n",
    "}else if (number > 0) {\n",
    "\n",
    "    System.out.println(number + \" is positive\");\n",
    "\n",
    "}\n",
    "\n",
    "else {\n",
    "\n",
    "    System.out.println(number + \" is negative\");\n",
    "\n",
    "}"
   ]
  },
  {
   "cell_type": "markdown",
   "id": "f2fc8a9f",
   "metadata": {},
   "source": [
    "## If/Else example with 5 or more Conditions\n",
    "- This is an example of a calculator that identifies if the number is positive or negative and if's it greater than or less than 100 relative to signs."
   ]
  },
  {
   "cell_type": "code",
   "execution_count": 31,
   "id": "3ec5b197",
   "metadata": {
    "vscode": {
     "languageId": "java"
    }
   },
   "outputs": [
    {
     "name": "stdout",
     "output_type": "stream",
     "text": [
      "Enter a number: -250\n",
      "-250 is negative and less than -100\n"
     ]
    }
   ],
   "source": [
    "import java.util.Scanner;\n",
    "Scanner scanner = new Scanner(System.in);\n",
    "\n",
    "int number;\n",
    "\n",
    "System.out.print(\"Enter a number: \");\n",
    "\n",
    "try {\n",
    "    \n",
    "    // Get input\n",
    "    number = scanner.nextInt();\n",
    "\n",
    "    System.out.println(number);\n",
    "\n",
    "    // Check if number is equal to zero\n",
    "    if(number == 0) {\n",
    "\n",
    "        System.out.println(number + \" is 0\");\n",
    "\n",
    "    // If it's not then check if number is greater than 0\n",
    "    }else if (number > 0) {\n",
    "\n",
    "        if(number > 100) {\n",
    "\n",
    "            System.out.println(number + \" is positive and greater than 100\");\n",
    "\n",
    "        }\n",
    "        else {\n",
    "\n",
    "            System.out.println(number + \" is positive and less than 100\");\n",
    "\n",
    "        }\n",
    "    }\n",
    "\n",
    "    // If number is less than 0...\n",
    "    else if (number < 0) {\n",
    "\n",
    "        if(number > -100) {\n",
    "\n",
    "            System.out.println(number + \" is negative and greater than -100\");\n",
    "\n",
    "        }\n",
    "        else {\n",
    "\n",
    "            System.out.println(number + \" is negative and less than -100\");\n",
    "\n",
    "        }\n",
    "\n",
    "    }\n",
    "\n",
    "} catch (Exception e) {  \n",
    "    System.out.println(\"Input must be an integer\");\n",
    "}"
   ]
  },
  {
   "cell_type": "markdown",
   "id": "91ecbbca",
   "metadata": {},
   "source": [
    "## Switch-case Example\n",
    "- In this example, we see how instead of using if statements, we use cases from inputs. We input a message and then select a number corresponding to a color. This final output then prints your message in your chosen color."
   ]
  },
  {
   "cell_type": "code",
   "execution_count": 9,
   "id": "43922e87",
   "metadata": {
    "vscode": {
     "languageId": "java"
    }
   },
   "outputs": [
    {
     "name": "stdout",
     "output_type": "stream",
     "text": [
      "Enter a message: This is a message\n",
      "\u001b[31m\n",
      "0 - Red\n",
      "\u001b[32m1 - Green\n",
      "\u001b[33m2 - Yellow\n",
      "\u001b[34m3 - Blue\n",
      "\u001b[35m4 - Purple\n",
      "\u001b[36m5 - Cyan\n",
      "\u001b[37m6 - White\n",
      "\n",
      "Enter a number: 4\n",
      "\n",
      "\u001b[35mThis is a message\n"
     ]
    }
   ],
   "source": [
    "import java.util.Scanner;\n",
    "Scanner scanner = new Scanner(System.in);\n",
    "\n",
    "int number;\n",
    "String message;\n",
    "\n",
    "//Setup of COLOR variables\n",
    "public static final String RED = \"\\u001B[31m\";\n",
    "public static final String GREEN = \"\\u001B[32m\";\n",
    "public static final String YELLOW = \"\\u001B[33m\";\n",
    "public static final String BLUE = \"\\u001B[34m\";\n",
    "public static final String PURPLE = \"\\u001B[35m\";\n",
    "public static final String CYAN = \"\\u001B[36m\";\n",
    "public static final String WHITE = \"\\u001B[37m\";\n",
    "\n",
    "// Message Input\n",
    "System.out.print(\"Enter a message: \");\n",
    "message = scanner.nextLine();\n",
    "System.out.print(message + \"\\n\\n\");\n",
    "// Menu for custom color.\n",
    "System.out.print(RED + \"0 - Red\\n\");\n",
    "System.out.print(GREEN + \"1 - Green\\n\");\n",
    "System.out.print(YELLOW + \"2 - Yellow\\n\");\n",
    "System.out.print(BLUE + \"3 - Blue\\n\");\n",
    "System.out.print(PURPLE + \"4 - Purple\\n\");\n",
    "System.out.print(CYAN + \"5 - Cyan\\n\");\n",
    "System.out.print(WHITE + \"6 - White\\n\\n\");\n",
    "System.out.print(\"Enter a number: \");\n",
    "number = scanner.nextInt();\n",
    "System.out.print(number + \"\\n\\n\");\n",
    "\n",
    "// Switch-case related to the chosen number.\n",
    "switch(number) {\n",
    "\n",
    "    case 0:\n",
    "        System.out.println(RED + message);\n",
    "        break;\n",
    "\n",
    "    case 1:\n",
    "        System.out.println(GREEN + message);\n",
    "        break;\n",
    "\n",
    "    case 2:\n",
    "        System.out.println(YELLOW + message);\n",
    "        break;\n",
    "\n",
    "    case 3:\n",
    "        System.out.println(BLUE + message);\n",
    "        break;\n",
    "\n",
    "    case 4:\n",
    "        System.out.println(PURPLE + message);\n",
    "        break;\n",
    "\n",
    "    case 5:\n",
    "        System.out.println(CYAN + message);\n",
    "        break;\n",
    "    case 6:\n",
    "        System.out.println(WHITE + message);\n",
    "        break;\n",
    "\n",
    "    }"
   ]
  },
  {
   "cell_type": "markdown",
   "id": "135c3e7e",
   "metadata": {},
   "source": [
    "## De Morgan's Law\n",
    "\n",
    "- Not (a and b) is the same as (not a) or (not b). In Java this is written as !(a && b) == !a || !b\n",
    "- Not (a or b) is the same as (not a) and (not b). In Java this is written as !(a || b) == !a && !b\n",
    "- Or in other words it uses \"nots\" that are equivalent to other \"not\" equations."
   ]
  },
  {
   "cell_type": "code",
   "execution_count": 1,
   "id": "09fa2836",
   "metadata": {
    "vscode": {
     "languageId": "java"
    }
   },
   "outputs": [
    {
     "name": "stdout",
     "output_type": "stream",
     "text": [
      "True"
     ]
    }
   ],
   "source": [
    "int x = 10;\n",
    "int y = 4;\n",
    "\n",
    "if(!(x < 3) || !(y > 2) == !(x < 3 && y > 2)) {\n",
    "\n",
    "    System.out.print(\"True\");\n",
    "\n",
    "}else {\n",
    "\n",
    "    System.out.print(\"False\");\n",
    "\n",
    "}"
   ]
  }
 ],
 "metadata": {
  "kernelspec": {
   "display_name": "Java",
   "language": "java",
   "name": "java"
  },
  "language_info": {
   "codemirror_mode": "java",
   "file_extension": ".jshell",
   "mimetype": "text/x-java-source",
   "name": "Java",
   "pygments_lexer": "java",
   "version": "18.0.2.1+1-1"
  }
 },
 "nbformat": 4,
 "nbformat_minor": 5
}
