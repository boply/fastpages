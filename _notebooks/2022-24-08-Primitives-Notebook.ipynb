{
 "cells": [
  {
   "cell_type": "markdown",
   "id": "1fd80d2f",
   "metadata": {},
   "source": [
    "# Primitives Notebook"
   ]
  },
  {
   "cell_type": "code",
   "execution_count": 1,
   "id": "9c34d3d3",
   "metadata": {},
   "outputs": [
    {
     "name": "stdout",
     "output_type": "stream",
     "text": [
      "Integer: 1324\n",
      "Double: 3.14\n",
      "Boolean: false\n",
      "String: hello world\n",
      "Different String: hllo wrld\n"
     ]
    }
   ],
   "source": [
    "public class Primitives {\n",
    "    public static void main(String[] args) {\n",
    "      int sampleint = 1324;\n",
    "      double sampledouble = 3.14;\n",
    "      boolean samplebool = false;\n",
    "      String samplestring = \"hello world\";\n",
    "      String diffstring = new String(\"hllo wrld\");\n",
    "  \n",
    "      System.out.println(\"Integer: \" + sampleint);\n",
    "      System.out.println(\"Double: \" + sampledouble);\n",
    "      System.out.println(\"Boolean: \" + samplebool);\n",
    "      System.out.println(\"String: \" + samplestring);\n",
    "      System.out.println(\"Different String: \" + diffstring);\n",
    "    }\n",
    "  }\n",
    "  Primitives.main(null)\n"
   ]
  },
  {
   "cell_type": "markdown",
   "id": "2f31a05a",
   "metadata": {},
   "source": []
  },
  {
   "cell_type": "code",
   "execution_count": 2,
   "id": "b3b95e52",
   "metadata": {},
   "outputs": [
    {
     "name": "stdout",
     "output_type": "stream",
     "text": [
      "Type an integer: 125\n",
      "Type a double: 22.44\n",
      "Type a boolean: true\n",
      "Type a string: yes\n"
     ]
    }
   ],
   "source": [
    "import java.util.Scanner;\n",
    "\n",
    "public class InpPrimitives {\n",
    "    public static void main(String[] args) {    \n",
    "        Scanner input;\n",
    "\n",
    "        input = new Scanner(System.in);\n",
    "        System.out.print(\"Type an integer: \");\n",
    "        try {\n",
    "            int UserIntInput = input.nextInt();\n",
    "            System.out.println(UserIntInput);\n",
    "        } catch (Exception e) {  // if not an integer\n",
    "            System.out.println(\"That is not an integer (form like 159), \" + e);\n",
    "        }\n",
    "        input.close();\n",
    "\n",
    "        input = new Scanner(System.in);\n",
    "        System.out.print(\"Type a double: \");\n",
    "        try {\n",
    "            double UserDoubleInput = input.nextDouble();\n",
    "            System.out.println(UserDoubleInput);\n",
    "        } catch (Exception e) {  \n",
    "            System.out.println(\"That is not a double (form like 9.99), \" + e);\n",
    "        }\n",
    "        input.close();\n",
    "\n",
    "        input =  new Scanner(System.in);\n",
    "        System.out.print(\"Type a boolean: \");\n",
    "        try {\n",
    "            boolean UserBoolInput = input.nextBoolean();\n",
    "            System.out.println(UserBoolInput);\n",
    "        } catch (Exception e) {  \n",
    "            System.out.println(\"That is not a boolean (true or false), \" + e);\n",
    "        }\n",
    "        input.close();\n",
    "\n",
    "        input =  new Scanner(System.in);\n",
    "        System.out.print(\"Type a string: \");\n",
    "        try {\n",
    "            String UserStringInput = input.nextLine();\n",
    "            System.out.println(UserStringInput);\n",
    "        } catch (Exception e) { \n",
    "            System.out.println(\"That is not a string, \" + e);\n",
    "        }\n",
    "        input.close();\n",
    "    }\n",
    "}\n",
    "InpPrimitives.main(null);\n"
   ]
  },
  {
   "cell_type": "code",
   "execution_count": 3,
   "id": "d6767e16",
   "metadata": {},
   "outputs": [
    {
     "name": "stdout",
     "output_type": "stream",
     "text": [
      "Dividing integers\n",
      "\tConcatenation example: 7/2 = 3\n",
      "\tUsing string formatting: 7/2 = 3\n",
      "\tint output with printf: 7/2 = 3\n",
      "Double Division\n",
      "\tConcatenation example: 7.1/2.1 = 3.3809523809523805\n",
      "\tString formatting: 7.10/2.10 = 3.38\n",
      "\tPrintf formatting: 7.10/2.10 = 3.38\n",
      "Casting and Remainders\n",
      "\tint cast to double on division: 7/2 = 3.50\n",
      "\tint using modulo for remainder: 7/2 = 3 remainder 1\n"
     ]
    }
   ],
   "source": [
    "public class PrimitiveDivision {\n",
    "    public static void main(String[] args) {\n",
    "        int sampleint1 = 7, sampleint2 = 2;\n",
    "        System.out.println(\"Dividing integers\");\n",
    "        System.out.println(\"\\tConcatenation example: \" + sampleint1 + \"/\" + sampleint2 + \" = \" + sampleint1/sampleint2);\n",
    "        System.out.println(String.format(\"\\tUsing string formatting: %d/%d = %d\",sampleint1, sampleint2, sampleint1/sampleint2));\n",
    "        System.out.printf(\"\\tint output with printf: %d/%d = %d\",sampleint1, sampleint2, sampleint1/sampleint2);\n",
    "\n",
    "        double doub1 = 7.1, doub2 = 2.1;\n",
    "        System.out.println(\"\\nDouble Division\");\n",
    "        System.out.println(\"\\tConcatenation example: \" + doub1 + \"/\" + doub2 + \" = \" + doub1/doub2);\n",
    "        System.out.println(String.format(\"\\tString formatting: %.2f/%.2f = %.2f\",doub1, doub2, doub1/doub2));\n",
    "        System.out.printf(\"\\tPrintf formatting: %.2f/%.2f = %.2f\\n\",doub1, doub2, doub1/doub2);\n",
    "\n",
    "        System.out.println(\"Casting and Remainders\");\n",
    "        System.out.printf(\"\\tint cast to double on division: %d/%d = %.2f\\n\",sampleint1, sampleint2, sampleint1/(double)sampleint2);\n",
    "        System.out.println(\"\\tint using modulo for remainder: \" + sampleint1 + \"/\" + sampleint2 + \" = \" + sampleint1/sampleint2 + \" remainder \" + sampleint1%sampleint2);\n",
    "    }\n",
    "}\n",
    "PrimitiveDivision.main(null);\n"
   ]
  },
  {
   "cell_type": "code",
   "execution_count": 9,
   "id": "aa490461",
   "metadata": {},
   "outputs": [
    {
     "name": "stdout",
     "output_type": "stream",
     "text": [
      "Enter a double, 0 to exit: 5.0\n",
      "Enter a double, 0 to exit: 5.0\n",
      "Enter a double, 0 to exit: 5.0\n",
      "Enter a double, 0 to exit: 5.0\n",
      "Enter a double, 0 to exit: 0.0\n",
      "Average: 5.00\n"
     ]
    }
   ],
   "source": [
    "public class GradeCalculator {\n",
    "    ArrayList<Double> grades;   \n",
    "\n",
    "    public GradeCalculator() {\n",
    "        this.grades = new ArrayList<>();\n",
    "        this.enterGrades();\n",
    "    }\n",
    "\n",
    "    private boolean isZero(double value){\n",
    "        double threshold = 0.001;\n",
    "        return value >= -threshold && value <= threshold;\n",
    "    }\n",
    "\n",
    "\n",
    "    private void enterGrades() {\n",
    "        Scanner input;\n",
    "\n",
    "        while (true) {\n",
    "            input = new Scanner(System.in);\n",
    "            System.out.print(\"Enter a double, 0 to exit: \");\n",
    "            try {\n",
    "                double sampleInputDouble = input.nextDouble();\n",
    "                System.out.println(sampleInputDouble);\n",
    "                if (isZero(sampleInputDouble)) break;       \n",
    "                else this.grades.add(sampleInputDouble);    \n",
    "            } catch (Exception e) {  \n",
    "                System.out.println(\"Not an double (form like 9.99), \" + e);\n",
    "            }\n",
    "            input.close();\n",
    "        }\n",
    "    }\n",
    "\n",
    "    public double average() {\n",
    "        double total = 0;   \n",
    "        for (double num : this.grades) {    \n",
    "            total += num;   \n",
    "        }\n",
    "        return (total / this.grades.size());  \n",
    "    }\n",
    "\n",
    "    public static void main(String[] args) {\n",
    "        GradeCalculator grades = new GradeCalculator(); \n",
    "        System.out.println(\"Average: \" + String.format(\"%.2f\", grades.average()));  \n",
    "    }\n",
    "}\n",
    "GradeCalculator.main(null);\n"
   ]
  },
  {
   "cell_type": "code",
   "execution_count": 5,
   "id": "fd7d9465",
   "metadata": {},
   "outputs": [
    {
     "name": "stdout",
     "output_type": "stream",
     "text": [
      "143\n",
      "22.7\n",
      "false\n",
      "Hello World\n"
     ]
    }
   ],
   "source": [
    "class PrimitiveDemo {\n",
    "    public static void main(String[] args) {\n",
    "        int DemInt = 143;\n",
    "        double DemDoub = 22.7;\n",
    "        boolean DemBool = false;\n",
    "        String myStr = \"Hello World\";\n",
    "        System.out.println(DemInt);\n",
    "        System.out.println(DemDoub);\n",
    "        System.out.println(DemBool);\n",
    "        System.out.println(myStr);\n",
    "    }\n",
    "}\n",
    "\n",
    "PrimitiveDemo.main(null)"
   ]
  },
  {
   "cell_type": "code",
   "execution_count": 7,
   "id": "04069ad5",
   "metadata": {},
   "outputs": [
    {
     "name": "stdout",
     "output_type": "stream",
     "text": [
      "Type in a number 0 1 1 "
     ]
    }
   ],
   "source": [
    "// Hack: Nth Fibbonacci\n",
    "class Fibo {\n",
    "    public static void main(String[] args) {\n",
    "        Scanner input;\n",
    "\n",
    "        input = new Scanner(System.in);\n",
    "        System.out.print(\"Type in a number \");\n",
    "        try {\n",
    "            int N = input.nextInt();\n",
    "            int i1 = 0, i2 = 1;\n",
    "\n",
    "            int count = 0;\n",
    "\n",
    "            while (count < N) {\n",
    "\n",
    "                System.out.print(i1 + \" \");\n",
    "\n",
    "                int i3 = i2 + i1;\n",
    "                i1 = i2;\n",
    "                i2 = i3;\n",
    "                count = count + 1;\n",
    "            }\n",
    "\n",
    "\n",
    "        } catch (Exception e) {  \n",
    "            System.out.println(\"That is not a valid temperature  \" + e);\n",
    "        }\n",
    "        \n",
    "    }\n",
    "}\n",
    "Fibo.main(null)"
   ]
  }
 ],
 "metadata": {
  "kernelspec": {
   "display_name": "Java",
   "language": "java",
   "name": "java"
  },
  "language_info": {
   "codemirror_mode": "java",
   "file_extension": ".jshell",
   "mimetype": "text/x-java-source",
   "name": "java",
   "pygments_lexer": "java",
   "version": "18.0.2.1+1-1"
  }
 },
 "nbformat": 4,
 "nbformat_minor": 5
}
