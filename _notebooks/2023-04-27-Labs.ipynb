{
 "cells": [
  {
   "attachments": {},
   "cell_type": "markdown",
   "id": "1fd80d2f",
   "metadata": {},
   "source": [
    "# Labs\n",
    "> Lab 1 and 2 with extra seed.\n",
    "\n",
    "- toc: true \n",
    "- badges: true\n",
    "- comments: true\n",
    "- categories: [jupyter,java]"
   ]
  },
  {
   "attachments": {},
   "cell_type": "markdown",
   "id": "fef88552",
   "metadata": {},
   "source": [
    "## Grading\n",
    "| Lesson | Score | Link |\n",
    "|---|---|---|\n",
    "| Lesson 1 | 3/3 | https://docs.google.com/spreadsheets/d/1qbbm3IlLKoze7TOFyy8mSzEUfes6VSLquiDZq_U7eWU/edit#gid=0 |\n",
    "| Lesson 3 | 3/3 | https://docs.google.com/spreadsheets/d/1dRnIPRmZbST_eDu_qeKXOqnifCHz-joxjH43SSek5lo/edit#gid=185230352 |\n",
    "| Lesson 2 (Mine) | - | https://docs.google.com/spreadsheets/d/1WijmCHqT8rJkDo36pz5XlLPdWdD7F6SScv05WUIF29E/edit?usp=sharing |\n",
    "| Lab | - | http://monkeygame.rohanj.dev/ |"
   ]
  },
  {
   "attachments": {},
   "cell_type": "markdown",
   "id": "d2d48a8c",
   "metadata": {},
   "source": [
    "## Extra\n",
    "### Methods and Control Structures Question 1"
   ]
  },
  {
   "cell_type": "code",
   "execution_count": 4,
   "id": "883d5b4d",
   "metadata": {
    "vscode": {
     "languageId": "java"
    }
   },
   "outputs": [
    {
     "name": "stdout",
     "output_type": "stream",
     "text": [
      "2\n",
      "true\n"
     ]
    }
   ],
   "source": [
    "public class CheckDigit {\n",
    "\n",
    "    public int getCheck(int num) {\n",
    "        \n",
    "        int multiplier = 7;\n",
    "        int sum = 0;\n",
    "\n",
    "\n",
    "        for (int i = 1;i<= this.getNumberOfDigits(num);i++) {\n",
    "            sum += (this.getDigit(num,i))*multiplier;\n",
    "            multiplier--;\n",
    "        }\n",
    "        return this.getDigit(sum, this.getNumberOfDigits(sum));\n",
    "    }\n",
    "\n",
    "    \n",
    "\n",
    "\n",
    "    public boolean isValid(int numWithCheckDigit) {\n",
    "\n",
    "        int check = numWithCheckDigit % 10;\n",
    "        int restofnum = numWithCheckDigit/10;\n",
    "        return this.getCheck(restofnum) == check;\n",
    "    }\n",
    "\n",
    "    \n",
    "\n",
    "    public int getNumberOfDigits(int num) {\n",
    "        \n",
    "        int count = 0;\n",
    "        while(num > 0){\n",
    "            num /= 10;\n",
    "            count++;\n",
    "        }\n",
    "        return count;\n",
    "    }\n",
    "\n",
    "    \n",
    "\n",
    "    public int getDigit(int num, int n) {\n",
    "\n",
    "        int digit = 0;\n",
    "        int len = this.getNumberOfDigits(num);\n",
    "        for (int i = 0; i < len - n + 1; i++){\n",
    "            digit = num % 10;\n",
    "            num /= 10;\n",
    "        }\n",
    "        return digit;\n",
    "\n",
    "\n",
    "    }\n",
    "    // Tester method\n",
    "    public static void main(String args[]) {\n",
    "        CheckDigit tester = new CheckDigit();\n",
    "        System.out.println(tester.getCheck(159));\n",
    "        System.out.println(tester.isValid(1592));\n",
    "    }\n",
    "\n",
    "}\n",
    "CheckDigit.main(null);"
   ]
  },
  {
   "attachments": {},
   "cell_type": "markdown",
   "id": "1bdd588d",
   "metadata": {},
   "source": [
    "### Classes Question 2"
   ]
  },
  {
   "cell_type": "code",
   "execution_count": 5,
   "id": "fbc5450d",
   "metadata": {
    "vscode": {
     "languageId": "java"
    }
   },
   "outputs": [
    {
     "name": "stdout",
     "output_type": "stream",
     "text": [
      "1\n",
      "2\n",
      "3\n",
      "2\n",
      "2\n",
      "2\n",
      "2\n",
      "1\n"
     ]
    }
   ],
   "source": [
    "public class Bus {\n",
    "    private int stops = 1;\n",
    "    private int currentStop = 1;\n",
    "    public Bus(int stops){\n",
    "        this.stops = stops;\n",
    "        this.currentStop = currentStop;\n",
    "    }\n",
    "\n",
    "    public void move() {\n",
    "        if (currentStop < stops) {\n",
    "            currentStop++;\n",
    "        }\n",
    "        else {\n",
    "            --currentStop;\n",
    "        }\n",
    "    }\n",
    "\n",
    "    public int getCurrentStop() {\n",
    "        return currentStop;\n",
    "    }\n",
    "\n",
    "    public void setStops(int stops) {\n",
    "        this.stops = stops;\n",
    "    }\n",
    "    public static void main(String[] args) {\n",
    "        Bus bus1 = new Bus(3);\n",
    "        System.out.println(bus1.getCurrentStop());\n",
    "        bus1.move();\n",
    "        System.out.println(bus1.getCurrentStop());\n",
    "        bus1.move();\n",
    "        System.out.println(bus1.getCurrentStop());\n",
    "        bus1.move();\n",
    "        System.out.println(bus1.getCurrentStop()); \n",
    "        bus1.move();\n",
    "        bus1.move(); \n",
    "        System.out.println(bus1.getCurrentStop());\n",
    "        System.out.println(bus1.getCurrentStop());\n",
    "        Bus bus2 = new Bus(5);\n",
    "        System.out.println(bus1.getCurrentStop());\n",
    "        System.out.println(bus2.getCurrentStop());\n",
    "    }\n",
    "}\n",
    "Bus.main(null);"
   ]
  },
  {
   "attachments": {},
   "cell_type": "markdown",
   "id": "dfd6eaa0",
   "metadata": {},
   "source": [
    "### Array/ArrayLists Question 1"
   ]
  },
  {
   "cell_type": "code",
   "execution_count": 6,
   "id": "a9ebd0ab",
   "metadata": {
    "vscode": {
     "languageId": "java"
    }
   },
   "outputs": [],
   "source": [
    "public class MemberInfo { \n",
    "    private String name;\n",
    "    private int gradYear;\n",
    "    private boolean hasGoodStanding;\n",
    "\n",
    "    public MemberInfo(String name, int gradYear, boolean hasGoodStanding){\n",
    "        this.name = name;\n",
    "        this.gradYear = gradYear;\n",
    "        this.hasGoodStanding = hasGoodStanding;\n",
    "    }\n",
    "\n",
    "    public int getGradYear() {\n",
    "        return gradYear;\n",
    "    }\n",
    "\n",
    "    public boolean inGoodStanding() {\n",
    "        return hasGoodStanding;\n",
    "    }\n",
    "\n",
    "    public String toString(){\n",
    "        return (name + \" \" + gradYear + \" \" + hasGoodStanding);\n",
    "    }\n",
    "}"
   ]
  },
  {
   "cell_type": "code",
   "execution_count": 8,
   "id": "4683bc36",
   "metadata": {
    "vscode": {
     "languageId": "java"
    }
   },
   "outputs": [
    {
     "name": "stdout",
     "output_type": "stream",
     "text": [
      "[John 2021 true, Joseph 2021 true, Braeden 2024 true, Rohan 2024 true, Andrew 2024 true]\n",
      "[John 2021 true, Joseph 2021 true]\n",
      "[Braeden 2024 true, Rohan 2024 true, Andrew 2024 true]\n"
     ]
    }
   ],
   "source": [
    "public class ClubMembers {\n",
    "\n",
    "private ArrayList<MemberInfo> memberList = new ArrayList<>();\n",
    "\n",
    " \n",
    "// Add members by name and year\n",
    "public void addMembers(String[] names, int gradYear){\n",
    "    for (int i=0;i<names.length;i++) {\n",
    "        MemberInfo newMember = new MemberInfo(names[i],gradYear,true);\n",
    "        memberList.add(newMember);\n",
    "    }\n",
    "}\n",
    "\n",
    "\n",
    " \n",
    "// Remove members function by year\n",
    "public ArrayList<MemberInfo> removeMembers(int year){\n",
    "    ArrayList<MemberInfo> gradMembers = new ArrayList<>();\n",
    "    int i = 0;\n",
    "    while (i<this.memberList.size()) {\n",
    "        if (memberList.get(i).getGradYear() <= year) {\n",
    "            if (memberList.get(i).inGoodStanding()) {\n",
    "                gradMembers.add(memberList.get(i));\n",
    "            }\n",
    "            memberList.remove(i);\n",
    "        } else {\n",
    "            i++;\n",
    "        }\n",
    "    }\n",
    "    return gradMembers;\n",
    "}\n",
    "\n",
    "// Tester method\n",
    "public static void main(String args[]) {\n",
    "    ClubMembers test = new ClubMembers();\n",
    "    String[] setone = new String[]{\"Smith\", \"Steve\"};\n",
    "    String[] settwo = new String[]{\"Maria\", \"Braeden\", \"Andrew\"};\n",
    "    test.addMembers(setone,2021);\n",
    "    test.addMembers(settwo,2024);\n",
    "    System.out.println(test.memberList);\n",
    "    System.out.println(test.removeMembers(2022));\n",
    "    System.out.println(test.memberList);\n",
    "}\n",
    " \n",
    "}\n",
    "ClubMembers.main(null);"
   ]
  },
  {
   "attachments": {},
   "cell_type": "markdown",
   "id": "34150450",
   "metadata": {},
   "source": [
    "### 2D Array Question 2"
   ]
  },
  {
   "cell_type": "code",
   "execution_count": 9,
   "id": "a0589d72",
   "metadata": {
    "vscode": {
     "languageId": "java"
    }
   },
   "outputs": [],
   "source": [
    "public class Item {\n",
    "    private String name;\n",
    "    private int value;\n",
    "\n",
    "    public Item(String itemName, int itemValue) {\n",
    "        name = itemName;\n",
    "        value = itemValue;\n",
    "    }\n",
    "\n",
    "    \n",
    "\n",
    "    public String getName() {\n",
    "        return name;\n",
    "    }\n",
    "\n",
    "    public int getValue() {\n",
    "        return value;\n",
    "    }\n",
    "}"
   ]
  },
  {
   "cell_type": "code",
   "execution_count": 10,
   "id": "11fa2702",
   "metadata": {
    "vscode": {
     "languageId": "java"
    }
   },
   "outputs": [
    {
     "name": "stdout",
     "output_type": "stream",
     "text": [
      "book\n",
      "globe\n",
      "jacket\n",
      "lunch\n"
     ]
    }
   ],
   "source": [
    "public class ItemGrid {\n",
    "    private Item[][] grid;\n",
    "\n",
    "    // Constructor not shown\n",
    "    public ItemGrid(Item[][] grid) {\n",
    "        this.grid = grid;\n",
    "    }\n",
    "\n",
    "    /** Returns true if xPos is a valid row index and yPos is a valid\n",
    "     * column index and returns false otherwise.\n",
    "     */\n",
    "    public boolean isValid(int xPos, int yPos) {\n",
    "        // Get the number of rows and columns in the grid\n",
    "        int numRows = grid.length;\n",
    "        int numCols = grid[0].length;\n",
    "\n",
    "        // Check if the given xPos and yPos values are within the grid bounds\n",
    "        if (xPos >= 0 && xPos < numRows && yPos >= 0 && yPos < numCols) {\n",
    "            // The position is valid\n",
    "            return true;\n",
    "        } else {\n",
    "            // The position is invalid\n",
    "            return false;\n",
    "        }\n",
    "    }\n",
    "\n",
    "    /** Compares the item in row r and column c to the items to its\n",
    "     * left and to its right. Returns the name of the item with\n",
    "     * the greatest value, as described in part (a).\n",
    "     * Precondition: r and c are valid indices\n",
    "     */\n",
    "    public String mostValuableNeighbor(int r, int c) {\n",
    "        int maxValue = grid[r][c].getValue();\n",
    "        String correctReturn = grid[r][c].getName();\n",
    "        if (isValid(r, c-1) && grid[r][c-1].getValue() >= maxValue) {\n",
    "            maxValue = grid[r][c-1].getValue();\n",
    "            correctReturn = grid[r][c-1].getName();\n",
    "        }\n",
    "        if (isValid(r, c+1) && grid[r][c+1].getValue() >= maxValue) {\n",
    "            maxValue = grid[r][c+1].getValue();\n",
    "            correctReturn = grid[r][c+1].getName();\n",
    "        }\n",
    "        return correctReturn;\n",
    "    }\n",
    "\n",
    "    /** Returns the average value of all the items in grid,\n",
    "     * as described in part (b).\n",
    "     */\n",
    "    public double findAverage() {\n",
    "        double sum = 0;\n",
    "        double count = 0;\n",
    "        for (Item[] row : grid) {\n",
    "            for (Item item : row) {\n",
    "                sum += item.getValue();\n",
    "                count++;\n",
    "            }\n",
    "        }\n",
    "        return sum / count;\n",
    "    }\n",
    "\n",
    "    public static void main(String[] args){\n",
    "        Item[][] igArray = new Item[3][4];\n",
    "\n",
    "        // Initialize the array with new Item objects\n",
    "        igArray[0][0] = new Item(\"acorn\", 7);\n",
    "        igArray[0][1] = new Item(\"book\", 10);\n",
    "        igArray[0][2] = new Item(\"carrot\", 8);\n",
    "        igArray[0][3] = new Item(\"desk\", 9);\n",
    "        igArray[1][0] = new Item(\"egg\", 5);\n",
    "        igArray[1][1] = new Item(\"flag\", 8);\n",
    "        igArray[1][2] = new Item(\"globe\", 8);\n",
    "        igArray[1][3] = new Item(\"harp\", 9);\n",
    "        igArray[2][0] = new Item(\"island\", 7);\n",
    "        igArray[2][1] = new Item(\"jacket\", 19);\n",
    "        igArray[2][2] = new Item(\"kale\", 8);\n",
    "        igArray[2][3] = new Item(\"lunch\", 16);\n",
    "\n",
    "        ItemGrid ig = new ItemGrid(igArray);\n",
    "        \n",
    "        System.out.println(ig.mostValuableNeighbor(0, 2));\n",
    "        System.out.println(ig.mostValuableNeighbor(1, 1));\n",
    "        System.out.println(ig.mostValuableNeighbor(2, 0));\n",
    "        System.out.println(ig.mostValuableNeighbor(2, 3));\n",
    "    }\n",
    "}\n",
    "ItemGrid.main(null);"
   ]
  }
 ],
 "metadata": {
  "kernelspec": {
   "display_name": "Java",
   "language": "java",
   "name": "java"
  },
  "language_info": {
   "codemirror_mode": "java",
   "file_extension": ".jshell",
   "mimetype": "text/x-java-source",
   "name": "Java",
   "pygments_lexer": "java",
   "version": "17.0.5+9-LTS-191"
  }
 },
 "nbformat": 4,
 "nbformat_minor": 5
}
