{
 "cells": [
  {
   "cell_type": "markdown",
   "metadata": {},
   "source": [
    "# Program Info\n",
    "> A bash notebook running version commands.\n",
    "\n",
    "- toc: true \n",
    "- badges: true\n",
    "- comments: true\n",
    "- categories: [jupyter,week1]"
   ]
  },
  {
   "cell_type": "code",
   "execution_count": 19,
   "metadata": {
    "vscode": {
     "languageId": "shellscript"
    }
   },
   "outputs": [
    {
     "name": "stdout",
     "output_type": "stream",
     "text": [
      "------------Python Version------------\n",
      "Python 3.9.12\n",
      "Python 2.7.18\n",
      "\n",
      "-------------Java Version-------------\n",
      "java 18.0.2.1 2022-08-18\n",
      "Java(TM) SE Runtime Environment (build 18.0.2.1+1-1)\n",
      "Java HotSpot(TM) 64-Bit Server VM (build 18.0.2.1+1-1, mixed mode, sharing)\n",
      "javac 18.0.2.1\n",
      "\n",
      "-----------Anaconda Version-----------\n",
      "conda 4.14.0\n",
      "jupyter                   1.0.0            py39hecd8cb5_7  \n",
      "jupyter_client            6.1.12             pyhd3eb1b0_0  \n",
      "jupyter_console           6.4.0              pyhd3eb1b0_0  \n",
      "jupyter_core              4.9.2            py39hecd8cb5_0  \n",
      "jupyter_server            1.13.5             pyhd3eb1b0_0  \n",
      "jupyterlab                3.3.2              pyhd3eb1b0_0  \n",
      "jupyterlab_pygments       0.1.2                      py_0  \n",
      "jupyterlab_server         2.10.3             pyhd3eb1b0_1  \n",
      "jupyterlab_widgets        1.0.0              pyhd3eb1b0_1  \n"
     ]
    }
   ],
   "source": [
    "echo \"------------Python Version------------\"\n",
    "python --version\n",
    "python2 --version\n",
    "echo \"\"\n",
    "\n",
    "echo \"-------------Java Version-------------\"\n",
    "java --version\n",
    "javac --version\n",
    "echo \"\"\n",
    "\n",
    "echo \"-----------Anaconda Version-----------\"\n",
    "conda --version\n",
    "conda list | grep \"jupyter\""
   ]
  },
  {
   "cell_type": "code",
   "execution_count": 20,
   "metadata": {
    "vscode": {
     "languageId": "shellscript"
    }
   },
   "outputs": [
    {
     "name": "stdout",
     "output_type": "stream",
     "text": [
      "-------------Jupyter Version-------------\n",
      "Selected Jupyter core packages...\n",
      "IPython          : 8.2.0\n",
      "ipykernel        : 6.9.1\n",
      "ipywidgets       : 7.6.5\n",
      "jupyter_client   : 6.1.12\n",
      "jupyter_core     : 4.9.2\n",
      "jupyter_server   : 1.13.5\n",
      "jupyterlab       : 3.3.2\n",
      "nbclient         : 0.5.13\n",
      "nbconvert        : 6.4.4\n",
      "nbformat         : 5.3.0\n",
      "notebook         : 6.4.8\n",
      "qtconsole        : 5.3.0\n",
      "traitlets        : 5.1.1\n",
      "Available kernels:\n",
      "  python389jvsc74a57bd031f2aee4e71d21fbe5cf8b01ff0e069b9275f58929596ceb00d14d90e3e16cd6     /Users/boply/.vscode/extensions/ms-toolsai.jupyter-2022.7.1102252217/temp/jupyter/kernels/python389jvsc74a57bd031f2aee4e71d21fbe5cf8b01ff0e069b9275f58929596ceb00d14d90e3e16cd6\n",
      "  python3912jvsc74a57bd0b3b7c4b39c51acaa0ababaac78dafb28c940c1acd38600e6898f44bc93745552    /Users/boply/.vscode/extensions/ms-toolsai.jupyter-2022.7.1102252217/temp/jupyter/kernels/python3912jvsc74a57bd0b3b7c4b39c51acaa0ababaac78dafb28c940c1acd38600e6898f44bc93745552\n",
      "  bash                                                                                      /Users/boply/Library/Jupyter/kernels/bash\n",
      "  java                                                                                      /Users/boply/Library/Jupyter/kernels/java\n",
      "  javascript                                                                                /Users/boply/Library/Jupyter/kernels/javascript\n",
      "  python3                                                                                   /Users/boply/opt/anaconda3/share/jupyter/kernels/python3\n",
      "\n",
      "---------------npm Version---------------\n",
      "6.4.1\n"
     ]
    }
   ],
   "source": [
    "echo \"-------------Jupyter Version-------------\"\n",
    "jupyter --version\n",
    "jupyter kernelspec list\n",
    "echo \"\"\n",
    "echo \"---------------npm Version---------------\"\n",
    "npm -version"
   ]
  }
 ],
 "metadata": {
  "kernelspec": {
   "display_name": "Bash",
   "language": "bash",
   "name": "bash"
  },
  "language_info": {
   "codemirror_mode": "shell",
   "file_extension": ".sh",
   "mimetype": "text/x-sh",
   "name": "bash"
  },
  "orig_nbformat": 4,
  "vscode": {
   "interpreter": {
    "hash": "949777d72b0d2535278d3dc13498b2535136f6dfe0678499012e853ee9abcab1"
   }
  }
 },
 "nbformat": 4,
 "nbformat_minor": 2
}
