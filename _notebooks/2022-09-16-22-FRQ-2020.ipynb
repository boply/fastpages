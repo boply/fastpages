{
 "cells": [
  {
   "cell_type": "markdown",
   "id": "1fd80d2f",
   "metadata": {},
   "source": [
    "# FRQ 2020 - Methods and Control Structures\n",
    "> Answering Methods and Control Structures on the 2020 AP test.\n",
    "\n",
    "- toc: true \n",
    "- badges: true\n",
    "- comments: true\n",
    "- categories: [jupyter,week-4]"
   ]
  },
  {
   "cell_type": "markdown",
   "id": "3b58cc7b",
   "metadata": {},
   "source": [
    "Allotted time: 15 minutes (plus 5 minutes to submit)\n",
    "This question involves the use of check digits, which can be used to help detect if an error has occurred when a number is entered or transmitted electronically.\n",
    "The **CheckDigit** class is shown below. You will write one method of the **CheckDigit** class."
   ]
  },
  {
   "cell_type": "code",
   "execution_count": null,
   "id": "3ee0aedd",
   "metadata": {},
   "outputs": [],
   "source": [
    "public class CheckDigit\n",
    "   {\n",
    "/** Returns the check digit for num\n",
    "* Precondition: The number of digits in num is between one and six, inclusive. * num >= 0\n",
    "*/\n",
    "      public static int getCheck(int num)\n",
    "{ /* implementation not shown */ }\n",
    "/** Returns true if numWithCheckDigit is valid, or false otherwise,\n",
    "* as described in part (a)\n",
    "* \n",
    "* Precondition: The number of digits in numWithCheckDigit is \n",
    "* between two and seven, inclusive.\n",
    "* numWithCheckDigit >= 0\n",
    "*/\n",
    "\n",
    "public static boolean isValid(int numWithCheckDigit) \n",
    "{ /* to be implemented in part (a) */ }\n",
    "// There may be variables and methods not shown.\n",
    "}"
   ]
  },
  {
   "cell_type": "markdown",
   "id": "5f694a04",
   "metadata": {},
   "source": [
    "(a) Write the **isValid** method. The method returns **true** if its parameter **numWithCheckDigit**, which represents a number containing a check digit, is valid, and **false** otherwise. The check digit is always the rightmost digit of **numWithCheckDigit**.\n",
    "The following table shows some examples of the use of **isValid**.\n",
    "\n",
    "| Method Call | Return Value | Explanation |\n",
    "| ----------- | ----------- | ------------ |\n",
    "| getCheck(159) | 2 | The check digit for 159 is 2. |\n",
    "| isValid(1592) | True | The number 1592 is a valid combination of a number (159) check digit (2). |\n",
    "| isValid(1593) | False | The number 1593 is not a valid combination of a number (159) check digit (3) because 2 is the check digit for 159. |\n",
    "\n",
    "Complete method isValid below. You must use getCheck appropriately to receive full credit."
   ]
  },
  {
   "cell_type": "code",
   "execution_count": null,
   "id": "01b68eed",
   "metadata": {},
   "outputs": [],
   "source": [
    "/** Returns true if numWithCheckDigit is valid, or false\n",
    "* otherwise, as described in part (a)\n",
    "* Precondition: The number of digits in numWithCheckDigit is\n",
    "* between two and seven, inclusive.\n",
    "    *             numWithCheckDigit >= 0\n",
    "    */\n",
    "    public static boolean isValid(int numWithCheckDigit)"
   ]
  },
  {
   "cell_type": "markdown",
   "id": "39b4f57f",
   "metadata": {},
   "source": [
    "### Part A Answer:"
   ]
  },
  {
   "cell_type": "code",
   "execution_count": null,
   "id": "4427ccc0",
   "metadata": {},
   "outputs": [],
   "source": [
    "public static boolean isValid(int numWithCheckDigit) {\n",
    "\n",
    "int lastDigit = numWithCheckDigit % 10;\n",
    "int num = numWithCheckDigit / 10\n",
    "\n",
    "if(getCheck(num) == lastDigit) {\n",
    "    return true\n",
    "}\n",
    "else {\n",
    "    return false\n",
    "}\n",
    "\n",
    "} // method\n"
   ]
  },
  {
   "cell_type": "markdown",
   "id": "1e27f009",
   "metadata": {},
   "source": [
    "(b) A programmer wants to modify the **CheckDigit**  class to keep track of how many times a call to **isValid** is made with an incorrect check digit. Any time a call to **isValid** is made with an incorrect check digit, the count should be increased by one. The programmer would like to implement this change without making any changes to the signature of the **isValid** method or overloading isValid.\n",
    "Write a description of how you would change the **CheckDigit** class in order to support this modification. Do not write the program code for this change.\n",
    "Make sure to include the following in your response. \n",
    "- Identify any new or modified variables or methods.\n",
    "- Describe, for each new or revised variable or method, how it would change or be implemented, including visibility and type."
   ]
  },
  {
   "cell_type": "markdown",
   "id": "145985af",
   "metadata": {},
   "source": [
    "### Part B Answer:\n",
    "- To count how many times the isValid method returns false, a new integer counter field would need to be created for the checkDigit class. Every time, either in the else statement, in the isValid method, or whenever the isValid method returns false within another class or method, this field should be increased by 1. If this field will be accessed within another class, it should be a public field rather than a private field."
   ]
  }
 ],
 "metadata": {
  "kernelspec": {
   "display_name": "Java",
   "language": "java",
   "name": "java"
  },
  "language_info": {
   "codemirror_mode": "java",
   "file_extension": ".jshell",
   "mimetype": "text/x-java-source",
   "name": "java",
   "pygments_lexer": "java",
   "version": "18.0.2.1+1-1"
  }
 },
 "nbformat": 4,
 "nbformat_minor": 5
}
