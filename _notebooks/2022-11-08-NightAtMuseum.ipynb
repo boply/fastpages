{
 "cells": [
  {
   "cell_type": "markdown",
   "id": "1fd80d2f",
   "metadata": {},
   "source": [
    "# Night at the Museum\n",
    "> A conclusion of our night at the museum presentation.\n",
    "\n",
    "- toc: true \n",
    "- badges: true\n",
    "- comments: true\n",
    "- categories: [jupyter,week-11]"
   ]
  },
  {
   "cell_type": "markdown",
   "id": "7d290806",
   "metadata": {},
   "source": [
    "## [Frontend Repo](https://github.com/the-dark-way/quizme)\n",
    "\n",
    "## [Backend Repo](https://github.com/vunsh/the-dark-side)\n",
    "\n",
    "## [API Controller](https://github.com/vunsh/the-dark-side/blob/master/src/main/java/com/nighthawk/spring_portfolio/mvc/QuizMe/QuizMeApplication.java)\n",
    "\n",
    "## [Team Issue](https://github.com/the-dark-way/quizme/issues/2)\n",
    "    - Pojo\n",
    "    - Fetch\n",
    "    - Database\n",
    "\n",
    "## [Home](https://the-dark-way.github.io/quizme/)\n",
    "\n",
    "## [Help](https://the-dark-way.github.io/quizme/help)\n",
    "\n",
    "## [Flashcards](https://the-dark-way.github.io/quizme/flashcards/)\n",
    "\n",
    "## [Quiz](https://the-dark-way.github.io/quizme/test)\n",
    "\n",
    "## [Login](https://the-dark-way.github.io/quizme/login/)\n"
   ]
  }
 ],
 "metadata": {
  "kernelspec": {
   "display_name": "Java",
   "language": "java",
   "name": "java"
  },
  "language_info": {
   "codemirror_mode": "java",
   "file_extension": ".jshell",
   "mimetype": "text/x-java-source",
   "name": "java",
   "pygments_lexer": "java",
   "version": "18.0.2.1+1-1"
  }
 },
 "nbformat": 4,
 "nbformat_minor": 5
}
