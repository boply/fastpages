{
 "cells": [
  {
   "attachments": {},
   "cell_type": "markdown",
   "id": "1fd80d2f",
   "metadata": {},
   "source": [
    "# Lesson 1 Hacks\n",
    "> Hack and Homework for lesson 1.\n",
    "\n",
    "- toc: true \n",
    "- badges: true\n",
    "- comments: true\n",
    "- categories: [jupyter,java]"
   ]
  },
  {
   "attachments": {},
   "cell_type": "markdown",
   "id": "9769b07c",
   "metadata": {},
   "source": [
    "## Recursion Hack"
   ]
  },
  {
   "cell_type": "code",
   "execution_count": 1,
   "id": "04069ad5",
   "metadata": {
    "vscode": {
     "languageId": "java"
    }
   },
   "outputs": [
    {
     "name": "stdout",
     "output_type": "stream",
     "text": [
      "**********\n",
      "*********\n",
      "********\n",
      "*******\n",
      "******\n",
      "*****\n",
      "****\n",
      "***\n",
      "**\n",
      "*\n"
     ]
    }
   ],
   "source": [
    "public static void printPattern(int n) {\n",
    "    // Base case: If n is 1 or less, print a single asterisk and return\n",
    "    if (n <= 1) {\n",
    "        System.out.println(\"*\");\n",
    "        return;\n",
    "    }\n",
    "\n",
    "    // Recursive case: Print n asterisks and call printPattern() with n-1\n",
    "    for (int i = 0; i < n; i++) {\n",
    "        System.out.print(\"*\");\n",
    "    }\n",
    "    System.out.println();\n",
    "    printPattern(n - 1);\n",
    "}\n",
    "printPattern(10);"
   ]
  },
  {
   "attachments": {},
   "cell_type": "markdown",
   "id": "59f74a43",
   "metadata": {},
   "source": [
    "## Sorting Hack (Heap Sort)"
   ]
  },
  {
   "cell_type": "code",
   "execution_count": 3,
   "id": "7eafdfaa",
   "metadata": {
    "vscode": {
     "languageId": "java"
    }
   },
   "outputs": [],
   "source": [
    "public class Country {\n",
    "    private String name;\n",
    "    private int size;\n",
    "\n",
    "    public Country(String name, int size) {\n",
    "        this.name = name;\n",
    "        this.size = size;\n",
    "    }\n",
    "\n",
    "    public String getName() {\n",
    "        return name;\n",
    "    }\n",
    "\n",
    "    public int getSize() {\n",
    "        return size;\n",
    "    }\n",
    "\n",
    "    @Override\n",
    "    public String toString() {\n",
    "        return name + \" (\" + size + \")\";\n",
    "    }\n",
    "}"
   ]
  },
  {
   "cell_type": "code",
   "execution_count": 4,
   "id": "2dd4d0bb",
   "metadata": {
    "vscode": {
     "languageId": "java"
    }
   },
   "outputs": [],
   "source": [
    "import java.util.Comparator;\n",
    "\n",
    "public class CountryComparator implements Comparator<Country> {\n",
    "    @Override\n",
    "    public int compare(Country c1, Country c2) {\n",
    "        return c2.getSize() - c1.getSize();\n",
    "    }\n",
    "}\n"
   ]
  },
  {
   "cell_type": "code",
   "execution_count": 5,
   "id": "201803b5",
   "metadata": {
    "vscode": {
     "languageId": "java"
    }
   },
   "outputs": [],
   "source": [
    "import java.util.ArrayList;\n",
    "\n",
    "public class HeapSort {\n",
    "    public static void heapSort(ArrayList<Country> list, Comparator<Country> comparator) {\n",
    "        int n = list.size();\n",
    "\n",
    "        // Build heap (rearrange array)\n",
    "        for (int i = n / 2 - 1; i >= 0; i--)\n",
    "            heapify(list, n, i, comparator);\n",
    "\n",
    "        // One by one extract an element from heap\n",
    "        for (int i = n - 1; i >= 0; i--) {\n",
    "            // Move current root to end\n",
    "            Country temp = list.get(0);\n",
    "            list.set(0, list.get(i));\n",
    "            list.set(i, temp);\n",
    "\n",
    "            // call max heapify on the reduced heap\n",
    "            heapify(list, i, 0, comparator);\n",
    "        }\n",
    "    }\n",
    "\n",
    "    private static void heapify(ArrayList<Country> list, int n, int i, Comparator<Country> comparator) {\n",
    "        int largest = i; // Initialize largest as root\n",
    "        int left = 2 * i + 1; // left = 2*i + 1\n",
    "        int right = 2 * i + 2; // right = 2*i + 2\n",
    "\n",
    "        // If left child is larger than root\n",
    "        if (left < n && comparator.compare(list.get(left), list.get(largest)) > 0)\n",
    "            largest = left;\n",
    "\n",
    "        // If right child is larger than largest so far\n",
    "        if (right < n && comparator.compare(list.get(right), list.get(largest)) > 0)\n",
    "            largest = right;\n",
    "\n",
    "        // If largest is not root\n",
    "        if (largest != i) {\n",
    "            Country swap = list.get(i);\n",
    "            list.set(i, list.get(largest));\n",
    "            list.set(largest, swap);\n",
    "\n",
    "            // Recursively heapify the affected sub-tree\n",
    "            heapify(list, n, largest, comparator);\n",
    "        }\n",
    "    }\n",
    "}\n"
   ]
  },
  {
   "cell_type": "code",
   "execution_count": 7,
   "id": "48810c0d",
   "metadata": {
    "vscode": {
     "languageId": "java"
    }
   },
   "outputs": [
    {
     "name": "stdout",
     "output_type": "stream",
     "text": [
      "Before sorting:\n",
      "Russia (969)\n",
      "Brazil (647)\n",
      "Russia (507)\n",
      "USA (944)\n",
      "Canada (748)\n",
      "Russia (102)\n",
      "Australia (169)\n",
      "Brazil (883)\n",
      "Russia (182)\n",
      "China (482)\n",
      "\n",
      "After sorting:\n",
      "Russia (969)\n",
      "USA (944)\n",
      "Brazil (883)\n",
      "Canada (748)\n",
      "Brazil (647)\n",
      "Russia (507)\n",
      "China (482)\n",
      "Russia (182)\n",
      "Australia (169)\n",
      "Russia (102)\n",
      "\n"
     ]
    }
   ],
   "source": [
    "import java.util.Random;\n",
    "\n",
    "public class HeapSortTester {\n",
    "    public static void main(String[] args) {\n",
    "        // Generate some sample data\n",
    "        ArrayList<Country> countries = generateSampleData(10);\n",
    "        System.out.println(\"Before sorting:\");\n",
    "        printCountries(countries);\n",
    "\n",
    "        // Sort the list using Heap Sort with CountryComparator\n",
    "        Comparator<Country> comparator = new CountryComparator();\n",
    "        HeapSort.heapSort(countries, comparator);\n",
    "\n",
    "        System.out.println(\"After sorting:\");\n",
    "        printCountries(countries);\n",
    "    }\n",
    "\n",
    "    private static ArrayList<Country> generateSampleData(int n) {\n",
    "        ArrayList<Country> countries = new ArrayList<>();\n",
    "        Random random = new Random();\n",
    "        String[] names = {\"USA\", \"China\", \"Russia\", \"Australia\", \"Brazil\", \"Canada\", \"India\", \"Japan\", \"Mexico\", \"Germany\"};\n",
    "        for (int i = 0; i < n; i++) {\n",
    "            int size = random.nextInt(1000) + 1;\n",
    "            int index = random.nextInt(names.length);\n",
    "            Country country = new Country(names[index], size);\n",
    "            countries.add(country);\n",
    "        }\n",
    "        return countries;\n",
    "    }\n",
    "\n",
    "    private static void printCountries(ArrayList<Country> countries) {\n",
    "        for (Country country : countries) {\n",
    "            System.out.println(country);\n",
    "        }\n",
    "        System.out.println();\n",
    "    }\n",
    "}\n",
    "HeapSortTester.main(null);"
   ]
  },
  {
   "attachments": {},
   "cell_type": "markdown",
   "id": "de4cc42b",
   "metadata": {},
   "source": [
    "## Arraylist Hack"
   ]
  },
  {
   "cell_type": "code",
   "execution_count": 11,
   "id": "f4da82b2",
   "metadata": {
    "vscode": {
     "languageId": "java"
    }
   },
   "outputs": [
    {
     "name": "stdout",
     "output_type": "stream",
     "text": [
      "Original list: [1, 2, 3, 4, 5, 6, 7, 8, 9, 10]\n",
      "Modified list: [2, 4, 6, 8, 10]\n",
      "Reversed list: [10, 8, 6, 4, 2]\n",
      "Do the original list and the reversed modified list contain the same elements? false\n"
     ]
    }
   ],
   "source": [
    "import java.util.ArrayList;\n",
    "import java.util.Collections;\n",
    "\n",
    "public class ArrayListDemo {\n",
    "    public static void main(String[] args) {\n",
    "        ArrayList<Integer> originalList = new ArrayList<>();\n",
    "        Collections.addAll(originalList, 1, 2, 3, 4, 5, 6, 7, 8, 9, 10);\n",
    "\n",
    "        System.out.println(\"Original list: \" + originalList);\n",
    "\n",
    "        ArrayList<Integer> modifiedList = new ArrayList<>(originalList);\n",
    "        for (int i = modifiedList.size() - 1; i >= 0; i--) {\n",
    "            if (i % 2 == 0) {\n",
    "                modifiedList.remove(i);\n",
    "            }\n",
    "        }\n",
    "        System.out.println(\"Modified list: \" + modifiedList);\n",
    "\n",
    "        ArrayList<Integer> reversedList = new ArrayList<>(modifiedList);\n",
    "        Collections.reverse(reversedList);\n",
    "\n",
    "        System.out.println(\"Reversed list: \" + reversedList);\n",
    "\n",
    "        boolean sameElements = originalList.equals(reversedList);\n",
    "        System.out.println(\"Do the original list and the reversed modified list contain the same elements? \" + sameElements);\n",
    "    }\n",
    "}\n",
    "ArrayListDemo.main(null);"
   ]
  }
 ],
 "metadata": {
  "kernelspec": {
   "display_name": "Java",
   "language": "java",
   "name": "java"
  },
  "language_info": {
   "codemirror_mode": "java",
   "file_extension": ".jshell",
   "mimetype": "text/x-java-source",
   "name": "Java",
   "pygments_lexer": "java",
   "version": "17.0.5+9-LTS-191"
  }
 },
 "nbformat": 4,
 "nbformat_minor": 5
}
