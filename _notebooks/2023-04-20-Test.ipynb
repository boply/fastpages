{
 "cells": [
  {
   "attachments": {},
   "cell_type": "markdown",
   "id": "1fd80d2f",
   "metadata": {},
   "source": [
    "# Test\n",
    "> Using array lists to add, remove get and more.\n",
    "\n",
    "- toc: true \n",
    "- badges: true\n",
    "- comments: true\n",
    "- categories: [jupyter,java]"
   ]
  },
  {
   "cell_type": "code",
   "execution_count": 9,
   "id": "04069ad5",
   "metadata": {
    "vscode": {
     "languageId": "java"
    }
   },
   "outputs": [],
   "source": [
    "public class Book {\n",
    "    private String title;\n",
    "    private int id;\n",
    "    private long creationTime;\n",
    "    private long bookLife;\n",
    "    private static int bookCount = 0;\n",
    "\n",
    "    public Book(String title, long bookLife) {\n",
    "        this.title = title;\n",
    "        this.bookLife = bookLife;\n",
    "        this.creationTime = System.nanoTime() / (long)1000000000;\n",
    "        bookCount++;\n",
    "        this.id = bookCount;\n",
    "    }\n",
    "    public String getTitle() {\n",
    "        return title;\n",
    "    }\n",
    "\n",
    "    public int getId() {\n",
    "        return id;\n",
    "    }\n",
    "\n",
    "    public long getBookLife() {\n",
    "        return bookLife;\n",
    "    }\n",
    "\n",
    "    public static int getBookCount() {\n",
    "        return bookCount;\n",
    "    }\n",
    "\n",
    "    public static int setBookCount() {\n",
    "        return bookCount = 0;\n",
    "    }\n",
    "\n",
    "    public boolean isExpired() {\n",
    "        long currentTime = System.nanoTime() / (long)1000000000;\n",
    "        if (currentTime > creationTime + bookLife) {\n",
    "            return true;\n",
    "        } else {\n",
    "            return false;\n",
    "        }\n",
    "        \n",
    "    }\n",
    "\n",
    "    @Override\n",
    "    public String toString() {\n",
    "        return this.title + \", \" + this.id + \", \" + this.bookLife + \" days, \" + this.isExpired();\n",
    "    }\n",
    "\n",
    "}"
   ]
  },
  {
   "cell_type": "code",
   "execution_count": 10,
   "id": "35152dc8",
   "metadata": {
    "vscode": {
     "languageId": "java"
    }
   },
   "outputs": [],
   "source": [
    "public class Novel extends Book {\n",
    "   \n",
    "    private String author;\n",
    "    private int stamps;\n",
    "\n",
    "    public Novel(String title, int bookLife, String author, int stamps) {\n",
    "        super(title, bookLife);\n",
    "        this.author = author;\n",
    "        this.stamps = stamps;\n",
    "    }\n",
    "\n",
    "    public String getAuthor() {\n",
    "        return author;\n",
    "    }\n",
    "\n",
    "    public boolean isExpired() {\n",
    "        boolean expired = super.isExpired();\n",
    "        if (expired && this.stamps < 3) {\n",
    "            return true;\n",
    "        } else {\n",
    "            return false;\n",
    "        }\n",
    "        \n",
    "    }\n",
    "\n",
    "    public String toString() {\n",
    "        return super.toString() + \", \" + this.author;\n",
    "    }\n",
    "\n",
    "}"
   ]
  },
  {
   "cell_type": "code",
   "execution_count": 11,
   "metadata": {
    "vscode": {
     "languageId": "java"
    }
   },
   "outputs": [],
   "source": [
    "public class Textbook extends Book {\n",
    "   \n",
    "    private String publishingCompany;\n",
    "\n",
    "    public Textbook(String title, int bookLife, String publishingCompany) {\n",
    "        super(title, bookLife);\n",
    "        this.publishingCompany = publishingCompany;\n",
    "    }\n",
    "\n",
    "    public String getPublishingCompany() {\n",
    "        return publishingCompany;\n",
    "    }\n",
    "\n",
    "    public String toString() {\n",
    "        return super.toString() + \", \" + this.publishingCompany;\n",
    "    }\n",
    "\n",
    "}"
   ]
  },
  {
   "cell_type": "code",
   "execution_count": 16,
   "id": "889fddd3",
   "metadata": {
    "vscode": {
     "languageId": "java"
    }
   },
   "outputs": [
    {
     "name": "stdout",
     "output_type": "stream",
     "text": [
      "Book 1: Red Rose, 1, 3 days, false\n",
      "Book 2: Midnight Library, 2, 2 days, false, John\n",
      "Book 3: AP CSA, 3, 4 days, false, Mort\n",
      "Total Books: 3\n",
      "Book 1: Red Rose, 1, 3 days, false\n",
      "Book 2: Midnight Library, 2, 2 days, true, John\n",
      "Book 3: AP CSA, 3, 4 days, false, Mort\n"
     ]
    }
   ],
   "source": [
    "public class Main {\n",
    "    public static void main(String[] args) {\n",
    "\n",
    "        Book.setBookCount();\n",
    "        Book book1 = new Book(\"Red Rose\", 3);\n",
    "        Novel novel1 = new Novel(\"Midnight Library\", 2, \"John\", 2);\n",
    "        Textbook textbook1 = new Textbook(\"AP CSA\", 4, \"Mort\");\n",
    "        System.out.println(\"Book 1: \" + book1.toString());\n",
    "        System.out.println(\"Book 2: \" + novel1.toString());\n",
    "        System.out.println(\"Book 3: \" + textbook1.toString());\n",
    "        System.out.println(\"Total Books: \" + Book.getBookCount());\n",
    "\n",
    "        try {\n",
    "            Thread.sleep(3000);\n",
    "        } catch(Exception e) {\n",
    "            e.printStackTrace();\n",
    "        }\n",
    "\n",
    "        System.out.println(\"Book 1: \" + book1.toString());\n",
    "        System.out.println(\"Book 2: \" + novel1.toString());\n",
    "        System.out.println(\"Book 3: \" + textbook1.toString());\n",
    "    }\n",
    "}\n",
    "Main.main(null);"
   ]
  }
 ],
 "metadata": {
  "kernelspec": {
   "display_name": "Java",
   "language": "java",
   "name": "java"
  },
  "language_info": {
   "codemirror_mode": "java",
   "file_extension": ".jshell",
   "mimetype": "text/x-java-source",
   "name": "Java",
   "pygments_lexer": "java",
   "version": "17.0.5+9-LTS-191"
  }
 },
 "nbformat": 4,
 "nbformat_minor": 5
}
