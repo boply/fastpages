{
 "cells": [
  {
   "attachments": {},
   "cell_type": "markdown",
   "id": "1fd80d2f",
   "metadata": {},
   "source": [
    "# Data Types\n",
    "> Different data types primitive and non-primitive.\n",
    "\n",
    "- toc: true \n",
    "- badges: true\n",
    "- comments: true\n",
    "- categories: [jupyter,java]"
   ]
  },
  {
   "attachments": {},
   "cell_type": "markdown",
   "id": "a1450d15",
   "metadata": {},
   "source": [
    "1 + 1 = 10 because in binary 10 or one-zero is 2."
   ]
  },
  {
   "cell_type": "code",
   "execution_count": 12,
   "id": "04069ad5",
   "metadata": {
    "vscode": {
     "languageId": "java"
    }
   },
   "outputs": [
    {
     "name": "stdout",
     "output_type": "stream",
     "text": [
      "1 + 1 = 10\n"
     ]
    }
   ],
   "source": [
    "import java.util.Scanner;\n",
    "public class BinaryLong {\n",
    "   public static void main(String[] args)\n",
    "   {\n",
    "\n",
    "    // Two added values to equal binary\n",
    "    int a = 1;\n",
    "    int b = 1;\n",
    "\n",
    "    //Two variables\n",
    "    int i = 0, carry = 0;\n",
    "\n",
    "    //This is to hold the output binary number\n",
    "    int[] sum = new int[10];\n",
    "\n",
    "    int b1 = a;\n",
    "    int b2 = b;\n",
    "\n",
    "    //while the ints are not 0, code uses mod\n",
    "    while (b1 != 0 || b2 != 0) \n",
    "    {\n",
    "        sum[i++] = (int)((b1 % 10 + b2 % 10 + carry) % 2);\n",
    "        carry = (int)((b1 % 10 + b2 % 10 + carry) / 2);\n",
    "        b1 = b1 / 10;\n",
    "        b2 = b2 / 10;\n",
    "    }\n",
    "    if (carry != 0) {\n",
    "        sum[i++] = carry;\n",
    "    }\n",
    "    --i;\n",
    "    System.out.print(a + \" + \" + b + \" = \");\n",
    "    while (i >= 0) {\n",
    "        System.out.print(sum[i--]);\n",
    "    }\n",
    "    System.out.print(\"\\n\");\n",
    "   }\n",
    "}\n",
    "BinaryLong.main(null);"
   ]
  },
  {
   "cell_type": "code",
   "execution_count": null,
   "id": "cd00279e",
   "metadata": {
    "vscode": {
     "languageId": "java"
    }
   },
   "outputs": [],
   "source": [
    "import java.lang.Math;\n",
    "\n",
    "public class BinaryShort {\n",
    " \n",
    "    public static void main(String[] args) {\n",
    "\n",
    "        int a = 0b1;\n",
    "        int b = 0b1;\n",
    "\n",
    "        int sum = a + b;\n",
    "        System.out.println(Integer.toBinaryString(sum));\n",
    "\n",
    "    }\n",
    "}\n",
    "BinaryShort.main(null);"
   ]
  },
  {
   "attachments": {},
   "cell_type": "markdown",
   "id": "051abb85",
   "metadata": {},
   "source": [
    "## Primitive Examples"
   ]
  },
  {
   "cell_type": "code",
   "execution_count": 1,
   "id": "8829154c",
   "metadata": {
    "vscode": {
     "languageId": "java"
    }
   },
   "outputs": [
    {
     "name": "stdout",
     "output_type": "stream",
     "text": [
      "Random number from array: 2\n",
      "Pi: 3.141592653589793\n",
      "Is Java fun? true\n",
      "First letter of message: H\n"
     ]
    }
   ],
   "source": [
    "import java.util.Random;\n",
    "\n",
    "public class PrimitiveTypesExample {\n",
    "    public static void main(String[] args) {\n",
    "        // int example\n",
    "        int[] numbers = {1, 2, 3, 4, 5};\n",
    "        int randomNumber = new Random().nextInt(numbers.length);\n",
    "        System.out.println(\"Random number from array: \" + numbers[randomNumber]);\n",
    "\n",
    "        // double example\n",
    "        double pi = 3.141592653589793238;\n",
    "        System.out.println(\"Pi: \" + pi);\n",
    "\n",
    "        // boolean example\n",
    "        boolean isJavaFun = true;\n",
    "        System.out.println(\"Is Java fun? \" + isJavaFun);\n",
    "\n",
    "        // char example\n",
    "        String message = \"Hello, world!\";\n",
    "        char firstLetter = message.charAt(0);\n",
    "        System.out.println(\"First letter of message: \" + firstLetter);\n",
    "    }\n",
    "}\n",
    "PrimitiveTypesExample.main(null);"
   ]
  },
  {
   "attachments": {},
   "cell_type": "markdown",
   "id": "5a59e216",
   "metadata": {},
   "source": [
    "## Wrapper Class Examples"
   ]
  },
  {
   "cell_type": "code",
   "execution_count": 2,
   "id": "9c642b7b",
   "metadata": {
    "vscode": {
     "languageId": "java"
    }
   },
   "outputs": [
    {
     "name": "stdout",
     "output_type": "stream",
     "text": [
      "Sum of numbers: 15\n",
      "Average temperature: 25.8\n",
      "Number of true choices: 2\n",
      "Message: Hello, world!\n"
     ]
    }
   ],
   "source": [
    "import java.util.Arrays;\n",
    "\n",
    "public class PrimitiveTypesExample {\n",
    "    public static void main(String[] args) {\n",
    "        // int example with wrapper class\n",
    "        Integer[] numbers = {1, 2, 3, 4, 5};\n",
    "        int sum = Arrays.stream(numbers).mapToInt(Integer::intValue).sum();\n",
    "        System.out.println(\"Sum of numbers: \" + sum);\n",
    "\n",
    "        // double example with wrapper class\n",
    "        Double[] temperatures = {25.6, 28.9, 30.1, 23.4, 21.0};\n",
    "        double average = Arrays.stream(temperatures).mapToDouble(Double::doubleValue).average().getAsDouble();\n",
    "        System.out.println(\"Average temperature: \" + average);\n",
    "\n",
    "        // boolean example with wrapper class\n",
    "        Boolean[] choices = {true, false, false, true};\n",
    "        long countTrue = Arrays.stream(choices).filter(Boolean::booleanValue).count();\n",
    "        System.out.println(\"Number of true choices: \" + countTrue);\n",
    "\n",
    "        // char example with wrapper class\n",
    "        Character[] letters = {'H', 'e', 'l', 'l', 'o', ',', ' ', 'w', 'o', 'r', 'l', 'd', '!'};\n",
    "        String message = Arrays.stream(letters).map(Object::toString).reduce(\"\", String::concat);\n",
    "        System.out.println(\"Message: \" + message);\n",
    "    }\n",
    "}\n",
    "PrimitiveTypesExample.main(null);"
   ]
  },
  {
   "attachments": {},
   "cell_type": "markdown",
   "id": "7fdd5922",
   "metadata": {},
   "source": [
    "## Methods and Control Structures\n",
    "\n",
    "### Methods\n",
    "In Java, a method is a set of code that performs a specific task. Methods enable code reusability and modularity. A method can receive parameters as input and return a value as output.\n",
    "\n",
    "### Control Structures\n",
    "Control structures are programming statements that manage the program's execution flow. In Java, conditional statements, loops, and switch statements are the common control structures.\n",
    "\n",
    "### Methods and Control Structures in methodDataTypes\n",
    "**methodDataTypes** is a Java project consisting of various classes that exemplify the use of methods and control structures. For instance, the **DiverseArrays** and Matrix classes demonstrate the use of control structures like loops and conditional statements to perform operations on arrays and matrices. The Number and Random classes demonstrate the use of control structures for performing operations on numbers, and the **DoNothingByValue** and **IntByReference** classes illustrate how passing parameters to methods works. Lastly, the Menu class demonstrates the use of control structures to control the flow of execution of the program."
   ]
  },
  {
   "cell_type": "code",
   "execution_count": 5,
   "id": "a771e99f",
   "metadata": {
    "vscode": {
     "languageId": "java"
    }
   },
   "outputs": [
    {
     "name": "stdout",
     "output_type": "stream",
     "text": [
      "Menu:\n",
      "1. Option 1\n",
      "2. Option 2\n",
      "3. Option 3\n",
      "4. Exit\n",
      "Enter your choice: Option 1 selected\n",
      "Menu:\n",
      "1. Option 1\n",
      "2. Option 2\n",
      "3. Option 3\n",
      "4. Exit\n",
      "Enter your choice: Goodbye!\n"
     ]
    }
   ],
   "source": [
    "import java.util.Scanner;\n",
    "\n",
    "public class Menu {\n",
    "    public static void main(String[] args) {\n",
    "        Scanner scanner = new Scanner(System.in);\n",
    "        int choice = 0;\n",
    "        \n",
    "        Runnable menuRunnable = () -> {\n",
    "            System.out.println(\"Menu:\");\n",
    "            System.out.println(\"1. Option 1\");\n",
    "            System.out.println(\"2. Option 2\");\n",
    "            System.out.println(\"3. Option 3\");\n",
    "            System.out.println(\"4. Exit\");\n",
    "            System.out.print(\"Enter your choice: \");\n",
    "        };\n",
    "        \n",
    "        while (choice != 4) {\n",
    "            try {\n",
    "                menuRunnable.run();\n",
    "                choice = scanner.nextInt();\n",
    "                scanner.nextLine();\n",
    "                \n",
    "                switch (choice) {\n",
    "                    case 1:\n",
    "                        System.out.println(\"Option 1 selected\");\n",
    "                        break;\n",
    "                    case 2:\n",
    "                        System.out.println(\"Option 2 selected\");\n",
    "                        break;\n",
    "                    case 3:\n",
    "                        System.out.println(\"Option 3 selected\");\n",
    "                        break;\n",
    "                    case 4:\n",
    "                        System.out.println(\"Goodbye!\");\n",
    "                        break;\n",
    "                    default:\n",
    "                        System.out.println(\"Invalid choice!\");\n",
    "                        break;\n",
    "                }\n",
    "            } catch (Exception e) {\n",
    "                System.out.println(\"Invalid input. Please try again.\");\n",
    "                scanner.nextLine();\n",
    "            }\n",
    "        }\n",
    "        \n",
    "        scanner.close();\n",
    "    }\n",
    "}\n",
    "Menu.main(null);"
   ]
  },
  {
   "attachments": {},
   "cell_type": "markdown",
   "id": "5469ccf7",
   "metadata": {},
   "source": [
    "## 2015 FRQ Question 1\n",
    "\n",
    "### a."
   ]
  },
  {
   "cell_type": "code",
   "execution_count": null,
   "id": "da93e7fd",
   "metadata": {
    "vscode": {
     "languageId": "java"
    }
   },
   "outputs": [],
   "source": [
    "public static int arraySum(int[] arr) {\n",
    "    int sum = 0;\n",
    "  \n",
    "    for (int n: arr)\n",
    "      sum += n;\n",
    "  \n",
    "    return sum;\n",
    "  }"
   ]
  },
  {
   "attachments": {},
   "cell_type": "markdown",
   "id": "9b7c929d",
   "metadata": {},
   "source": [
    "The code defines a method named **arraySum** that takes an array of integers as input and returns the sum of all the integers in the array. It starts by initializing a variable sum to zero, and then loops through the elements in the array using a **for-each** loop. In each iteration, it adds the current element to the sum variable. Finally, it returns the sum variable which holds the total sum of all elements in the array."
   ]
  },
  {
   "attachments": {},
   "cell_type": "markdown",
   "id": "ddd6264e",
   "metadata": {},
   "source": [
    "### b."
   ]
  },
  {
   "cell_type": "code",
   "execution_count": null,
   "id": "fd0f1c96",
   "metadata": {
    "vscode": {
     "languageId": "java"
    }
   },
   "outputs": [],
   "source": [
    "public static int[] rowSums(int[][] arr2D) {\n",
    "    int[] sums = new int[arr2D.length];\n",
    "  \n",
    "    for (int i = 0; i < sums.length; i++) {\n",
    "      sums[i] = arraySum(arr2D[i]);\n",
    "    }\n",
    "  \n",
    "    return sums;\n",
    "  }"
   ]
  },
  {
   "attachments": {},
   "cell_type": "markdown",
   "id": "7accb98b",
   "metadata": {},
   "source": [
    "The code defines a static method called rowSums that takes a two-dimensional integer array arr2D as an input and returns a one-dimensional integer array. The method initializes a new integer array sums with the same length as the number of rows in the input array.\n",
    "\n",
    "The method then iterates through each row in the input array using a for loop. For each row, it calls another method called arraySum to calculate the sum of all the elements in the row. The result is stored in the corresponding index of the sums array.\n",
    "\n",
    "Finally, the method returns the sums array containing the sum of each row in the input array.\n",
    "\n",
    "In summary, the rowSums method calculates the sum of each row in a two-dimensional integer array and returns the result in a new one-dimensional integer array."
   ]
  },
  {
   "attachments": {},
   "cell_type": "markdown",
   "id": "f9ed97ce",
   "metadata": {},
   "source": [
    "### c."
   ]
  },
  {
   "cell_type": "code",
   "execution_count": null,
   "id": "dd555758",
   "metadata": {
    "vscode": {
     "languageId": "java"
    }
   },
   "outputs": [],
   "source": [
    "public static boolean isDiverse(int[][] arr2D) {\n",
    "    int[] sums = rowSums(arr2D);\n",
    "  \n",
    "    for (int i = 0; i < sums.length; i++)\n",
    "      for (int j = i + 1; j < sums.length; j++)\n",
    "        if (sums[i] == sums[j])\n",
    "          return false;\n",
    "  \n",
    "    return true;\n",
    "}"
   ]
  },
  {
   "attachments": {},
   "cell_type": "markdown",
   "id": "7e93c7d3",
   "metadata": {},
   "source": [
    "The isDiverse method is a static method that takes a two-dimensional integer array as input and returns a boolean value. It uses the rowSums method to calculate the sum of each row of the input array and stores the resulting sums in a new array called sums.\n",
    "\n",
    "The method then compares each sum in the sums array with all other sums in the array to determine whether any two rows have the same sum. If it finds any such duplicate sums, it immediately returns false to indicate that the input array is not diverse. Otherwise, if it reaches the end of the loops without finding any duplicates, it returns true to indicate that the input array is diverse.\n",
    "\n",
    "In essence, the isDiverse method checks whether a two-dimensional array is diverse, meaning that none of its rows has the same sum as any other row, by calculating row sums and comparing them to one another."
   ]
  }
 ],
 "metadata": {
  "kernelspec": {
   "display_name": "Java",
   "language": "java",
   "name": "java"
  },
  "language_info": {
   "codemirror_mode": "java",
   "file_extension": ".jshell",
   "mimetype": "text/x-java-source",
   "name": "Java",
   "pygments_lexer": "java",
   "version": "17.0.5+9-LTS-191"
  }
 },
 "nbformat": 4,
 "nbformat_minor": 5
}
