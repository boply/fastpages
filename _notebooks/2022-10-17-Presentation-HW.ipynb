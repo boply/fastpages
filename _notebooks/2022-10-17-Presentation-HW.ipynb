{
 "cells": [
  {
   "cell_type": "markdown",
   "id": "1fd80d2f",
   "metadata": {},
   "source": [
    "# Presentations HW\n",
    "> Homework for peer presentations.\n",
    "\n",
    "- toc: true \n",
    "- badges: true\n",
    "- comments: true\n",
    "- categories: [jupyter,week-8]"
   ]
  },
  {
   "cell_type": "markdown",
   "id": "7ce2490d",
   "metadata": {},
   "source": [
    "## Unit 1 - Primitive Types FRQ 2006\n",
    "### 2A"
   ]
  },
  {
   "cell_type": "code",
   "execution_count": null,
   "id": "09dffe46",
   "metadata": {},
   "outputs": [],
   "source": [
    "public double purchasePrice() {\n",
    "    return (1 + taxRate) * getListPrice();\n",
    "}"
   ]
  },
  {
   "cell_type": "markdown",
   "id": "c3896751",
   "metadata": {},
   "source": [
    "### 3A"
   ]
  },
  {
   "cell_type": "code",
   "execution_count": null,
   "id": "0595ac93",
   "metadata": {},
   "outputs": [],
   "source": [
    "public int compareCustomer(Customer other) {\n",
    "    int nameCompare = getName().compareTo(other.getName());\n",
    "    if (nameCompare != 0) {\n",
    "        return nameCompare;\n",
    "    }\n",
    "    else {\n",
    "        return getID() - other.getID();\n",
    "    }\n",
    "}"
   ]
  },
  {
   "cell_type": "markdown",
   "id": "be1ee012",
   "metadata": {},
   "source": [
    "## Unit 2 - Using Objects - Goblin Game"
   ]
  },
  {
   "cell_type": "code",
   "execution_count": 1,
   "id": "04069ad5",
   "metadata": {},
   "outputs": [],
   "source": [
    "public class Goblin {\n",
    "  private String name;\n",
    "  private int HP;\n",
    "  private int DMG;\n",
    "  private double hitChance;\n",
    "\n",
    "  public String getName() {\n",
    "      return name;\n",
    "  }\n",
    "\n",
    "  public int getHP() {\n",
    "      return HP;\n",
    "  }\n",
    "\n",
    "  public int getDMG() {\n",
    "      return DMG;\n",
    "  }\n",
    "\n",
    "  public double getHitChance() {\n",
    "      return hitChance;\n",
    "  }\n",
    "\n",
    "  public boolean isAlive() {\n",
    "      if (this.HP > 0) {\n",
    "          return true;\n",
    "      } else {\n",
    "          return false;\n",
    "      }\n",
    "  }\n",
    "\n",
    "  public void setName(String newName) {\n",
    "      this.name = newName;\n",
    "  }\n",
    "\n",
    "  public void setHP(int newHP) {\n",
    "      this.HP = newHP;\n",
    "  }\n",
    "\n",
    "  public void takeDMG(int takenDamage) {\n",
    "      this.HP -= takenDamage;\n",
    "  }\n",
    "\n",
    "  public void setDMG(int newDMG) {\n",
    "      this.DMG = newDMG;\n",
    "  }\n",
    "\n",
    "  public void setHitChance(double newHitChance) {\n",
    "      this.hitChance = newHitChance;\n",
    "  }\n",
    "}"
   ]
  },
  {
   "cell_type": "code",
   "execution_count": 5,
   "id": "a478dad2",
   "metadata": {},
   "outputs": [
    {
     "name": "stdout",
     "output_type": "stream",
     "text": [
      "jeffrey attacks Gunther the great!\n",
      "jeffrey misses...\n",
      "Gunther the great HP: 4\n",
      "\n",
      "Gunther the great attacks jeffrey!\n",
      "Gunther the great hits!\n",
      "jeffrey takes 1 damage\n",
      "jeffrey HP: 11\n",
      "\n",
      "jeffrey attacks Gunther the great!\n",
      "jeffrey misses...\n",
      "Gunther the great HP: 4\n",
      "\n",
      "Gunther the great attacks jeffrey!\n",
      "Gunther the great hits!\n",
      "jeffrey takes 1 damage\n",
      "jeffrey HP: 10\n",
      "\n",
      "jeffrey attacks Gunther the great!\n",
      "jeffrey hits!\n",
      "Gunther the great takes 2 damage\n",
      "Gunther the great HP: 2\n",
      "\n",
      "Gunther the great attacks jeffrey!\n",
      "Gunther the great hits!\n",
      "jeffrey takes 1 damage\n",
      "jeffrey HP: 9\n",
      "\n",
      "jeffrey attacks Gunther the great!\n",
      "jeffrey hits!\n",
      "Gunther the great takes 2 damage\n",
      "Gunther the great HP: 0\n",
      "\n",
      "Gunther the great attacks jeffrey!\n",
      "Gunther the great hits!\n",
      "jeffrey takes 1 damage\n",
      "jeffrey HP: 8\n",
      "\n",
      "Gunther the great has perished\n"
     ]
    }
   ],
   "source": [
    "import java.lang.Math;\n",
    "\n",
    "public class Duel {\n",
    "\n",
    "    public static void attack(Goblin attackerGoblin, Goblin attackeeGoblin) {\n",
    "\n",
    "        System.out.println(attackerGoblin.getName() + \" attacks \" + attackeeGoblin.getName() + \"!\");\n",
    "        if (Math.random() < attackerGoblin.getHitChance()) {\n",
    "            attackeeGoblin.takeDMG(attackerGoblin.getDMG());\n",
    "            System.out.println(attackerGoblin.getName() + \" hits!\");\n",
    "            System.out.println(attackeeGoblin.getName() + \" takes \" + attackerGoblin.getDMG() + \" damage\");\n",
    "        } else {\n",
    "            System.out.println(attackerGoblin.getName() + \" misses...\");\n",
    "        }\n",
    "\n",
    "        System.out.println(attackeeGoblin.getName() + \" HP: \" + attackeeGoblin.getHP());\n",
    "        System.out.println();\n",
    "    }\n",
    "\n",
    "    public static void fight(Goblin goblin1, Goblin goblin2) {\n",
    "        while (goblin1.isAlive() && goblin2.isAlive()) {\n",
    "            \n",
    "            attack(goblin1, goblin2);\n",
    "\n",
    "            if (!goblin1.isAlive()) {\n",
    "                System.out.println(goblin1.getName() + \" has perished\");\n",
    "                break;\n",
    "            }\n",
    "\n",
    "            attack(goblin2, goblin1);\n",
    "\n",
    "            if (!goblin2.isAlive()) {\n",
    "                System.out.println(goblin2.getName() + \" has perished\");\n",
    "                break;\n",
    "            }\n",
    "        }\n",
    "    }\n",
    "\n",
    "    public static void main(String[] args) {\n",
    "        Goblin goblin1 = new Goblin();\n",
    "        goblin1.setName(\"jeffrey\");\n",
    "        goblin1.setHP(12);\n",
    "        goblin1.setDMG(2);\n",
    "        goblin1.setHitChance(0.50);\n",
    "\n",
    "        Goblin goblin2 = new Goblin();\n",
    "        goblin2.setName(\"Gunther the great\");\n",
    "        goblin2.setHP(4);\n",
    "        goblin2.setDMG(1);\n",
    "        goblin2.setHitChance(1);\n",
    "\n",
    "        fight(goblin1, goblin2);\n",
    "    }\n",
    "}\n",
    "\n",
    "Duel.main(null);"
   ]
  },
  {
   "cell_type": "markdown",
   "id": "65a2cd60",
   "metadata": {},
   "source": [
    "## Unit 3 - Boolean and If  Statements\n",
    "### Conditional Exercise\n",
    "\n",
    "(2. Write a Java program to solve quadratic equations (use if, else if and else)."
   ]
  },
  {
   "cell_type": "code",
   "execution_count": 6,
   "id": "2ad6e9ed",
   "metadata": {},
   "outputs": [
    {
     "name": "stdout",
     "output_type": "stream",
     "text": [
      "Input a: Input b: Input c: The roots are -0.4384471871911697 and -4.561552812808831\n"
     ]
    }
   ],
   "source": [
    "import java.util.Scanner;\n",
    "public class Exercise2 {\n",
    "\n",
    "    \n",
    "  public static void main(String[] Strings) {\n",
    "\n",
    "        Scanner input = new Scanner(System.in);\n",
    "\n",
    "            System.out.print(\"Input a: \");\n",
    "            double a = input.nextDouble();\n",
    "            System.out.print(\"Input b: \");\n",
    "            double b = input.nextDouble();\n",
    "            System.out.print(\"Input c: \");\n",
    "            double c = input.nextDouble();\n",
    "\n",
    "            double result = b * b - 4.0 * a * c;\n",
    "\n",
    "            if (result > 0.0) {\n",
    "                double r1 = (-b + Math.pow(result, 0.5)) / (2.0 * a);\n",
    "                double r2 = (-b - Math.pow(result, 0.5)) / (2.0 * a);\n",
    "                System.out.println(\"The roots are \" + r1 + \" and \" + r2);\n",
    "            } else if (result == 0.0) {\n",
    "                double r1 = -b / (2.0 * a);\n",
    "                System.out.println(\"The root is \" + r1);\n",
    "            } else {\n",
    "                System.out.println(\"The equation has no real roots.\");\n",
    "            }\n",
    "\n",
    "    }\n",
    "}\n",
    "Exercise2.main(null);"
   ]
  },
  {
   "cell_type": "markdown",
   "id": "032b7645",
   "metadata": {},
   "source": [
    "(4. Write a Java program that reads a floating-point number and prints \"zero\" if the number is zero. Otherwise, print \"positive\" or \"negative\". Add \"small\" if the absolute value of the number is less than 1, or \"large\" if it exceeds 1,000,000."
   ]
  },
  {
   "cell_type": "code",
   "execution_count": 7,
   "id": "6d6d8664",
   "metadata": {},
   "outputs": [
    {
     "name": "stdout",
     "output_type": "stream",
     "text": [
      "Input value: Positive number\n"
     ]
    }
   ],
   "source": [
    "import java.util.Scanner;\n",
    "public class Exercise4 {\n",
    "\n",
    "    \n",
    "  public static void main(String[] args)\n",
    "    {\n",
    "        Scanner in = new Scanner(System.in);\n",
    "        System.out.print(\"Input value: \");\n",
    "        double input = in.nextDouble();\n",
    "\n",
    "        if (input > 0)\n",
    "        {\n",
    "            if (input < 1)\n",
    "            {\n",
    "                System.out.println(\"Positive small number\");\n",
    "            }\n",
    "            else if (input > 1000000)\n",
    "            {\n",
    "                System.out.println(\"Positive large number\");\n",
    "            }\n",
    "            else\n",
    "            {\n",
    "                System.out.println(\"Positive number\");\n",
    "            }\n",
    "        }\n",
    "        else if (input < 0)\n",
    "        {\n",
    "            if (Math.abs(input) < 1)\n",
    "            {\n",
    "                System.out.println(\"Negative small number\");\n",
    "            }\n",
    "            else if (Math.abs(input) > 1000000)\n",
    "            {\n",
    "                System.out.println(\"Negative large number\");\n",
    "            }\n",
    "            else\n",
    "            {\n",
    "                System.out.println(\"Negative number\");\n",
    "            }\n",
    "        }\n",
    "        else\n",
    "        {\n",
    "            System.out.println(\"Zero\");\n",
    "        }\n",
    "    }\n",
    "}\n",
    "Exercise4.main(null);"
   ]
  },
  {
   "cell_type": "markdown",
   "id": "26f86832",
   "metadata": {},
   "source": [
    "(6. Write a Java program that reads in two floating-point numbers and tests whether they are the same up to three decimal places."
   ]
  },
  {
   "cell_type": "code",
   "execution_count": 8,
   "id": "6697b40c",
   "metadata": {},
   "outputs": [
    {
     "name": "stdout",
     "output_type": "stream",
     "text": [
      "Input floating-point number: Input floating-point another number: They are different\n"
     ]
    }
   ],
   "source": [
    "import java.util.Scanner;\n",
    "public class Exercise6 {\n",
    "\n",
    "    \n",
    "  public static void main(String[] args)\n",
    "    {\n",
    "        Scanner in = new Scanner(System.in);\n",
    "\n",
    "        System.out.print(\"Input floating-point number: \");\n",
    "        double x = in.nextDouble();\n",
    "        System.out.print(\"Input floating-point another number: \");\n",
    "        double y = in.nextDouble();\n",
    "\n",
    "        x = Math.round(x * 1000);\n",
    "        x = x / 1000;\n",
    "\n",
    "        y = Math.round(y * 1000);\n",
    "        y = y / 1000;\n",
    "\n",
    "        if (x == y)\n",
    "        {\n",
    "            System.out.println(\"They are the same up to three decimal places\");\n",
    "        }\n",
    "        else\n",
    "        {\n",
    "            System.out.println(\"They are different\");\n",
    "        }\n",
    "    }\n",
    "}\n",
    "Exercise6.main(null);"
   ]
  },
  {
   "cell_type": "markdown",
   "id": "735aef87",
   "metadata": {},
   "source": [
    "(8. Write a Java program that takes the user to provide a single character from the alphabet. Print Vowel or Consonant, depending on the user input. If the user input is not a letter (between a and z or A and Z), or is a string of length > 1, print an error message"
   ]
  },
  {
   "cell_type": "code",
   "execution_count": 9,
   "id": "1f4e6bda",
   "metadata": {},
   "outputs": [
    {
     "name": "stdout",
     "output_type": "stream",
     "text": [
      "Input an alphabet: Input letter is Consonant\n"
     ]
    }
   ],
   "source": [
    "import java.util.Scanner;\n",
    "public class Exercise8 {\n",
    "\n",
    "    \n",
    "  public static void main(String[] args)\n",
    "    {\n",
    "        Scanner in = new Scanner(System.in);\n",
    "\n",
    "        System.out.print(\"Input an alphabet: \");\n",
    "        String input = in.next().toLowerCase();\n",
    "\n",
    "        boolean uppercase = input.charAt(0) >= 65 && input.charAt(0) <= 90;\n",
    "        boolean lowercase = input.charAt(0) >= 97 && input.charAt(0) <= 122;\n",
    "        boolean vowels = input.equals(\"a\") || input.equals(\"e\") || input.equals(\"i\")\n",
    "                || input.equals(\"o\") || input.equals(\"u\");\n",
    "\n",
    "        if (input.length() > 1)\n",
    "        {\n",
    "            System.out.println(\"Error. Not a single character.\");\n",
    "        }\n",
    "        else if (!(uppercase || lowercase))\n",
    "        {\n",
    "            System.out.println(\"Error. Not a letter. Enter uppercase or lowercase letter.\");\n",
    "        }\n",
    "        else if (vowels)\n",
    "        {\n",
    "            System.out.println(\"Input letter is Vowel\");\n",
    "        }\n",
    "        else\n",
    "        {\n",
    "            System.out.println(\"Input letter is Consonant\");\n",
    "        }\n",
    "    }\n",
    "}\n",
    "Exercise8.main(null);"
   ]
  },
  {
   "cell_type": "markdown",
   "id": "90f6ddb4",
   "metadata": {},
   "source": [
    "(10. Write a program in Java to display the first 10 natural numbers."
   ]
  },
  {
   "cell_type": "code",
   "execution_count": 10,
   "id": "6d4a00ef",
   "metadata": {},
   "outputs": [
    {
     "name": "stdout",
     "output_type": "stream",
     "text": [
      "The first 10 natural numbers are:\n",
      "\n",
      "1\n",
      "2\n",
      "3\n",
      "4\n",
      "5\n",
      "6\n",
      "7\n",
      "8\n",
      "9\n",
      "10\n",
      "\n",
      "\n"
     ]
    }
   ],
   "source": [
    "public class Exercise10 {\n",
    "    \n",
    "    public static void main(String[] args)\n",
    "      {     \n",
    "      int i;\n",
    "      System.out.println (\"The first 10 natural numbers are:\\n\");\n",
    "      for (i=1;i<=10;i++)\n",
    "      {      \n",
    "          System.out.println (i);\n",
    "      }\n",
    "  System.out.println (\"\\n\");\n",
    "  }\n",
    "  }\n",
    "Exercise10.main(null);  "
   ]
  },
  {
   "cell_type": "markdown",
   "id": "9e0c1feb",
   "metadata": {},
   "source": [
    "(12. Write a program in Java to input 5 numbers from keyboard and find their sum and average"
   ]
  },
  {
   "cell_type": "code",
   "execution_count": 11,
   "id": "4d4df941",
   "metadata": {},
   "outputs": [
    {
     "name": "stdout",
     "output_type": "stream",
     "text": [
      "Input the 5 numbers : \n",
      "The sum of 5 no is : 15\n",
      "The Average is : 3.0\n"
     ]
    }
   ],
   "source": [
    "import java.util.Scanner;\n",
    "public class Exercise12 {\n",
    "\n",
    "    \n",
    "  public static void main(String[] args)\n",
    "\n",
    "{       \n",
    "    int i,n=0,s=0;\n",
    "\tdouble avg;\n",
    "\t{\n",
    "\t   \n",
    "        System.out.println(\"Input the 5 numbers : \");  \n",
    "         \n",
    "\t}\n",
    "\t\tfor (i=0;i<5;i++)\n",
    "\t\t{\n",
    "\t\t    Scanner in = new Scanner(System.in);\n",
    "\t\t    n = in.nextInt();\n",
    "\t\t    \n",
    "  \t\ts +=n;\n",
    "\t}\n",
    "\tavg=s/5;\n",
    "\tSystem.out.println(\"The sum of 5 no is : \" +s+\"\\nThe Average is : \" +avg);\n",
    " \n",
    "}\n",
    "}\n",
    "Exercise12.main(null);"
   ]
  },
  {
   "cell_type": "markdown",
   "id": "c4a30ea2",
   "metadata": {},
   "source": [
    "(14. Write a program in Java to display the multiplication table of a given integer."
   ]
  },
  {
   "cell_type": "code",
   "execution_count": 12,
   "id": "bf9dceee",
   "metadata": {},
   "outputs": [
    {
     "name": "stdout",
     "output_type": "stream",
     "text": [
      "Input the number(Table to be calculated): Input number of terms : \n",
      "\n",
      "5 X 0 = 0\n",
      "5 X 1 = 5\n",
      "5 X 2 = 10\n",
      "5 X 3 = 15\n",
      "5 X 4 = 20\n",
      "5 X 5 = 25\n"
     ]
    }
   ],
   "source": [
    "import java.util.Scanner;\n",
    "public class Exercise14 {\n",
    "\n",
    "   public static void main(String[] args)\n",
    "\n",
    "{\n",
    "   int j,n;\n",
    "\n",
    "   System.out.print(\"Input the number(Table to be calculated): \");\n",
    "{\n",
    "   System.out.print(\"Input number of terms : \");\n",
    "    Scanner in = new Scanner(System.in);\n",
    "\t\t    n = in.nextInt();\n",
    "\n",
    "   System.out.println (\"\\n\");\n",
    "   for(j=0;j<=n;j++)\n",
    "  \n",
    "     System.out.println(n+\" X \"+j+\" = \" +n*j);\n",
    "   }\n",
    "}\n",
    "}\n",
    "Exercise14.main(null);"
   ]
  },
  {
   "cell_type": "markdown",
   "id": "970f2d6f",
   "metadata": {},
   "source": [
    "(16. Write a program in Java to display the pattern like right angle triangle with a number."
   ]
  },
  {
   "cell_type": "code",
   "execution_count": 13,
   "id": "523189d7",
   "metadata": {},
   "outputs": [
    {
     "name": "stdout",
     "output_type": "stream",
     "text": [
      "Input number of rows : 1\n",
      "12\n",
      "123\n",
      "1234\n",
      "12345\n",
      "123456\n",
      "1234567\n",
      "12345678\n",
      "123456789\n",
      "12345678910\n"
     ]
    }
   ],
   "source": [
    "import java.util.Scanner;\n",
    "public class Exercise16 {\n",
    "\n",
    "   public static void main(String[] args)\n",
    "\n",
    "{\n",
    "   int i,j,n;\n",
    "   System.out.print(\"Input number of rows : \");\n",
    " Scanner in = new Scanner(System.in);\n",
    "\t\t    n = in.nextInt();\n",
    "\n",
    "   for(i=1;i<=n;i++)\n",
    "   {\n",
    "\tfor(j=1;j<=i;j++)\n",
    "\t  System.out.print(j);\n",
    "\n",
    "    System.out.println(\"\");\n",
    "    }\n",
    "}\n",
    "}\n",
    "Exercise16.main(null);"
   ]
  },
  {
   "cell_type": "markdown",
   "id": "e1e198c9",
   "metadata": {},
   "source": [
    "(18. Write a program in Java to make such a pattern like right angle triangle with number increased by 1."
   ]
  },
  {
   "cell_type": "code",
   "execution_count": 14,
   "id": "07c57448",
   "metadata": {},
   "outputs": [
    {
     "name": "stdout",
     "output_type": "stream",
     "text": [
      "Input number of rows : 1\n",
      "23\n",
      "456\n",
      "78910\n"
     ]
    }
   ],
   "source": [
    "import java.util.Scanner;\n",
    "public class Exercise18 {\n",
    "\n",
    "  public static void main(String[] args)\n",
    "\n",
    "{\n",
    "   \t\tint i,j,n,k=1;\n",
    "\n",
    "   \t\tSystem.out.print(\"Input number of rows : \");\n",
    "\n",
    "   \t\tScanner in = new Scanner(System.in);\n",
    "\t\t    n = in.nextInt();\n",
    "\n",
    "   \t\tfor(i=1;i<=n;i++)\n",
    "   \t\t{\n",
    "\t\tfor(j=1;j<=i;j++)\n",
    "\t   \tSystem.out.print(k++);\n",
    "\t   \tSystem.out.println(\"\");\n",
    "\t   \t}  \t\t\n",
    "\t}\n",
    "\t}\n",
    "Exercise18.main(null);"
   ]
  },
  {
   "cell_type": "markdown",
   "id": "5b3eda13",
   "metadata": {},
   "source": [
    "(20. Write a program in Java to print the Floyd's Triangle."
   ]
  },
  {
   "cell_type": "code",
   "execution_count": 16,
   "id": "3acc5fab",
   "metadata": {},
   "outputs": [
    {
     "name": "stdout",
     "output_type": "stream",
     "text": [
      "Input number of rows : 1 \n",
      "2 3 \n",
      "4 5 6 \n",
      "7 8 9 10 \n",
      "11 12 13 14 15 \n"
     ]
    }
   ],
   "source": [
    "import java.util.Scanner;\n",
    "public class Exercise20 {\n",
    "public static void main(String[] args)\n",
    " {\n",
    "   int numberOfRows;\n",
    "   System.out.print(\"Input number of rows : \");\n",
    "   Scanner in = new Scanner(System.in);\n",
    "\t\t    numberOfRows = in.nextInt();\n",
    "   int number = 1;\n",
    "   for (int row = 1; row <= numberOfRows; row++)\n",
    "    {\n",
    "   for (int column = 1; column <= row; column++)\n",
    "     {\n",
    "       System.out.print(number + \" \");\n",
    "       number++;\n",
    "     }\n",
    "     System.out.println();\n",
    "    }\n",
    "  }\n",
    "}\n",
    "Exercise20.main(null);"
   ]
  },
  {
   "cell_type": "markdown",
   "id": "e1a41eb2",
   "metadata": {},
   "source": [
    "### Unit 4 - 2019 FRQ 1\n",
    "#### 1A"
   ]
  },
  {
   "cell_type": "code",
   "execution_count": null,
   "id": "1fa05bb4",
   "metadata": {},
   "outputs": [],
   "source": [
    "public static int numberOfLeapYears(int year1, int year2) {\n",
    "    leapYears = 0\n",
    "    n = year2 - year1;\n",
    "    for (i = 0, i<n, ++i) {\n",
    "        if (isLeapYear(year1 + i)) {\n",
    "            ++leapYears;\n",
    "        }\n",
    "    }\n",
    "    return leapYears;\n",
    "}"
   ]
  },
  {
   "cell_type": "markdown",
   "id": "1ac17f71",
   "metadata": {},
   "source": [
    "#### 1B"
   ]
  },
  {
   "cell_type": "code",
   "execution_count": null,
   "id": "4ab17388",
   "metadata": {},
   "outputs": [],
   "source": [
    "public static int dayOfWeek(int month, int day, int year) {\n",
    "    int weekday = firstDayOfYear(year);\n",
    "    int additionalDays = dayOfYear(month, day, year) - 1;\n",
    "  \n",
    "    for(int d = 1; d <= additionalDays; d++)\n",
    "    {\n",
    "      weekday++;\n",
    "  \n",
    "      if(weekday == 7)\n",
    "        weekday = 0;\n",
    "    }\n",
    "          \n",
    "    return weekday;\n",
    "  }"
   ]
  },
  {
   "cell_type": "markdown",
   "id": "a25bb14b",
   "metadata": {},
   "source": [
    "## Unit 5 - Writing Classes - FRQ 2021 1a and 3a\n",
    "### 1A"
   ]
  },
  {
   "cell_type": "code",
   "execution_count": null,
   "id": "317d7fde",
   "metadata": {},
   "outputs": [],
   "source": [
    "public int scoreGuess(String guess)\n",
    "{\n",
    "  int count = 0;\n",
    "\n",
    "  for(int i = 0; i < secret.length(); i++)\n",
    "  {\n",
    "    int j = i + guess.length();\n",
    "\n",
    "    if(j <= secret.length() && secret.substring(i, j).equals(guess))\n",
    "      count++;\n",
    "  }\n",
    "\n",
    "  return count * (guess.length() * guess.length());\n",
    "}"
   ]
  },
  {
   "cell_type": "markdown",
   "id": "b03400a9",
   "metadata": {},
   "source": [
    "### 3A"
   ]
  },
  {
   "cell_type": "code",
   "execution_count": null,
   "id": "77570f89",
   "metadata": {},
   "outputs": [],
   "source": [
    "public void addMembers(String[] names, int gradYear)\n",
    "{\n",
    "  for(String name : names)\n",
    "    memberList.add(new MemberInfo(name, gradYear, true));\n",
    "}"
   ]
  },
  {
   "cell_type": "markdown",
   "id": "2347e6eb",
   "metadata": {},
   "source": [
    "## Unit 6 - Array\n",
    "<li>Swap first and last.</li>\n",
    "<li>Replace all even indexes with 0.</li>"
   ]
  },
  {
   "cell_type": "code",
   "execution_count": 2,
   "id": "194f7867",
   "metadata": {},
   "outputs": [],
   "source": [
    "public class ArrayMethods {\n",
    "    private int[] values;\n",
    "    int i = 2;\n",
    "\n",
    "    public void swapFirstLast() \n",
    "    {\n",
    "        int first = values.get(0);\n",
    "        int last = values.get(values.size() - 1);\n",
    "        values.set(0, last)\n",
    "        values.set(values.get(values.size() - 1), first)\n",
    "    }\n",
    "\n",
    "    public void replaceEvenZero()\n",
    "    {\n",
    "        while (i < values.get(values.size() - 1)); {\n",
    "            values.set(i, 0);\n",
    "            i = i + 2\n",
    "        }\n",
    "    }\n",
    "}"
   ]
  }
 ],
 "metadata": {
  "kernelspec": {
   "display_name": "Java",
   "language": "java",
   "name": "java"
  },
  "language_info": {
   "codemirror_mode": "java",
   "file_extension": ".jshell",
   "mimetype": "text/x-java-source",
   "name": "java",
   "pygments_lexer": "java",
   "version": "18.0.2.1+1-1"
  }
 },
 "nbformat": 4,
 "nbformat_minor": 5
}
