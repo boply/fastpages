{
 "cells": [
  {
   "attachments": {},
   "cell_type": "markdown",
   "id": "1fd80d2f",
   "metadata": {},
   "source": [
    "# 2015 MCQ Test Corrections\n",
    "> Correcting wrong answers for the 2015 MCQ\n",
    "\n",
    "- toc: true \n",
    "- badges: true\n",
    "- comments: true\n",
    "- categories: [jupyter,java]"
   ]
  },
  {
   "attachments": {},
   "cell_type": "markdown",
   "id": "1476164e",
   "metadata": {},
   "source": [
    "## 9. Generate random index for ArrayList\n",
    "\n",
    "b. (int) (Math.random() * myList.size())\n",
    "\n",
    "This answer can't be A which is the one I chose because it ends with a -1. This doesn't work in this context as it starts with index 0 rather than 1 which I made the mistake of assuming. I will improve on this in the future because I now know that the array.size starts at index 0."
   ]
  },
  {
   "attachments": {},
   "cell_type": "markdown",
   "id": "1200c948",
   "metadata": {},
   "source": [
    "## 18. Print odd integers in 1D array but not even\n",
    "\n",
    "a. for (int x : arr)\n",
    "    if (x % 2 != 0)\n",
    "        System.out.println(x);\n",
    "\n",
    "Can't be C because you don't want to print the end result of the array index but instead print the number that is even. A is correct since it prints x instead of arr[x]. I will make sure to not have this problem arise in the future by paying more attention to the wording of the question."
   ]
  },
  {
   "cell_type": "markdown",
   "id": "80b403c0",
   "metadata": {},
   "source": [
    "## 27. Mystery Method with Int Parameter\n",
    "\n",
    "d. 8\n",
    "\n",
    "This is the correct answer over c because I simply did my arithmetic wrong. It's not really a matter of not understanding the material but rather my desire to finish the question in a timely manner. In order to prevent mistakes like this from happening on easy problems I need to take my time which was also my issue for the last question."
   ]
  },
  {
   "cell_type": "markdown",
   "id": "dc54ec78",
   "metadata": {},
   "source": [
    "## Reflection\n",
    "\n",
    "All in all I do think I did really well on this practice test since if it was the AP exam I would have gotten a five. However that doesn't mean I got a 100%. As we saw throughout this blog I made a lot of silly mistakes that could be realized and overwritten by just taking my time on the questions. Naturally I want to finish the test as soon as possible so making these little mistakes is easy. Going into the real AP MCQ and for really the future of my classes I think it's really important that I take more time on the questions are really understand what it's not only asking but also simple calculations that I could get wrong from rushing."
   ]
  },
  {
   "cell_type": "markdown",
   "id": "ae78a1a9",
   "metadata": {},
   "source": []
  }
 ],
 "metadata": {
  "kernelspec": {
   "display_name": "Java",
   "language": "java",
   "name": "java"
  },
  "language_info": {
   "codemirror_mode": "java",
   "file_extension": ".jshell",
   "mimetype": "text/x-java-source",
   "name": "java",
   "pygments_lexer": "java",
   "version": "18.0.2.1+1-1"
  }
 },
 "nbformat": 4,
 "nbformat_minor": 5
}
