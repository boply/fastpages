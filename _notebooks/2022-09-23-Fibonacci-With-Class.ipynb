{
 "cells": [
  {
   "cell_type": "markdown",
   "id": "1fd80d2f",
   "metadata": {},
   "source": [
    "# Fibonacci with Class\n",
    "> Fibonacci sequence using hashmap and scanner input.\n",
    "\n",
    "- toc: true \n",
    "- badges: true\n",
    "- comments: true\n",
    "- categories: [jupyter,week-5]"
   ]
  },
  {
   "cell_type": "markdown",
   "id": "2f31a05a",
   "metadata": {},
   "source": [
    "## For Loop\n",
    "- Loops sequence (fibonacci math) **FOR** as long as the max number is greater than or equal to the count (i)."
   ]
  },
  {
   "cell_type": "code",
   "execution_count": 12,
   "id": "04069ad5",
   "metadata": {
    "vscode": {
     "languageId": "java"
    }
   },
   "outputs": [
    {
     "name": "stdout",
     "output_type": "stream",
     "text": [
      "Fibonacci Series of 25 numbers:0 1 1 2 3 5 8 13 21 34 55 89 144 233 377 610 987 1597 2584 4181 6765 10946 17711 28657 46368 "
     ]
    }
   ],
   "source": [
    "// For Loop\n",
    "public class fibo {\n",
    " \n",
    "\tpublic static void main(String[] args) \n",
    "\t{\n",
    "\t\t// Set it to the number of elements you want in the Fibonacci Series\n",
    "\t\t int n = 25; \n",
    "\t\t int x1 = 0;\n",
    "\t\t int x2 = 1;\n",
    "\t\t \n",
    "\t        System.out.print(\"Fibonacci Series of \"+n+\" numbers:\");\n",
    " \n",
    "\t        for (int i = 1; i <= n; ++i)\n",
    "\t        {\n",
    "\t            System.out.print(x1 + \" \");\n",
    "\t            /* On each iteration, we are assigning second number\n",
    "\t             * to the first number and assigning the sum of last two\n",
    "\t             * numbers to the second number\n",
    "\t             */\n",
    " \n",
    "\t      \n",
    "\t            int sum = x1 + x2;\n",
    "\t            x1 = x2;\n",
    "\t            x2 = sum;\n",
    "\t        }\n",
    "\t}\n",
    "}\n",
    "fibo.main(null);"
   ]
  },
  {
   "cell_type": "markdown",
   "id": "aa843666",
   "metadata": {},
   "source": [
    "## While Loop\n",
    "- Loops sequence (fibonacci math) **WHILE** the max number is greater than or equal to the count (i)."
   ]
  },
  {
   "cell_type": "code",
   "execution_count": 10,
   "id": "a2b50b01",
   "metadata": {
    "vscode": {
     "languageId": "java"
    }
   },
   "outputs": [
    {
     "name": "stdout",
     "output_type": "stream",
     "text": [
      "Type in amount of numbers for sequence  -->  25\n",
      "0 1 1 2 3 5 8 13 21 34 55 89 144 233 377 610 987 1597 2584 4181 6765 10946 17711 28657 46368 "
     ]
    }
   ],
   "source": [
    "// While Loop\n",
    "class fibo {\n",
    "    public static void main(String[] args) {\n",
    "\n",
    "        System.out.print(\"Type in amount of numbers for sequence  -->  \");\n",
    "        try {\n",
    "            int x1 = 0, x2 = 1, n = 25;\n",
    "            System.out.print(n + \"\\n\");\n",
    "\n",
    "            int count = 0;\n",
    "\n",
    "            while (count < n) {\n",
    "\n",
    "                System.out.print(x1 + \" \");\n",
    "\n",
    "                int x3 = x2 + x1;\n",
    "                x1 = x2;\n",
    "                x2 = x3;\n",
    "                count = count + 1;\n",
    "            }\n",
    "\n",
    "\n",
    "        } catch (Exception e) {  \n",
    "            System.out.println(\"Input must be an integer  \" + e);\n",
    "        }\n",
    "        \n",
    "    }\n",
    "}\n",
    "fibo.main(null)"
   ]
  },
  {
   "cell_type": "markdown",
   "id": "22ddc471",
   "metadata": {},
   "source": [
    "## Input\n",
    "- Uses a while loop for takes in the users **INPUT** instead of a pre-registered max number."
   ]
  },
  {
   "cell_type": "code",
   "execution_count": 7,
   "id": "dc26e947",
   "metadata": {
    "vscode": {
     "languageId": "java"
    }
   },
   "outputs": [
    {
     "name": "stdout",
     "output_type": "stream",
     "text": [
      "Type in amount of numbers for sequence  -->  25\n",
      "0 1 1 2 3 5 8 13 21 34 55 89 144 233 377 610 987 1597 2584 4181 6765 10946 17711 28657 46368 "
     ]
    }
   ],
   "source": [
    "// Input\n",
    "class fibo {\n",
    "    public static void main(String[] args) {\n",
    "        Scanner input;\n",
    "\n",
    "        input = new Scanner(System.in);\n",
    "        System.out.print(\"Type in amount of numbers for sequence  -->  \");\n",
    "        try {\n",
    "            int N = input.nextInt();\n",
    "            int x1 = 0, x2 = 1;\n",
    "            System.out.print(N + \"\\n\");\n",
    "\n",
    "            int count = 0;\n",
    "\n",
    "            while (count < N) {\n",
    "\n",
    "                System.out.print(x1 + \" \");\n",
    "\n",
    "                int x3 = x2 + x1;\n",
    "                x1 = x2;\n",
    "                x2 = x3;\n",
    "                count = count + 1;\n",
    "            }\n",
    "\n",
    "\n",
    "        } catch (Exception e) {  \n",
    "            System.out.println(\"Input must be an integer  \" + e);\n",
    "        }\n",
    "        \n",
    "    }\n",
    "}\n",
    "fibo.main(null)"
   ]
  },
  {
   "cell_type": "markdown",
   "id": "da4355ae",
   "metadata": {},
   "source": [
    "## Recursion\n",
    "- Recalls itself (**RECURSES**) (fibonacci math) for as long as the max number is greater than the count (i)."
   ]
  },
  {
   "cell_type": "code",
   "execution_count": 1,
   "id": "1eca04c5",
   "metadata": {
    "vscode": {
     "languageId": "java"
    }
   },
   "outputs": [
    {
     "name": "stdout",
     "output_type": "stream",
     "text": [
      "Fibonacci Series of 25 numbers: 0 1 1 2 3 5 8 13 21 34 55 89 144 233 377 610 987 1597 2584 4181 6765 10946 17711 28657 46368 "
     ]
    }
   ],
   "source": [
    "// Recursion\n",
    "public class fibo{\n",
    "\tpublic static int fibonacciRecursion(int n){\n",
    "\tif(n == 0){\n",
    "\t\treturn 0;\n",
    "\t}\n",
    "\tif(n == 1 || n == 2){\n",
    "\t\t\treturn 1;\n",
    "\t\t}\n",
    "\treturn fibonacciRecursion(n-2) + fibonacciRecursion(n-1);\n",
    "\t}\n",
    "    public static void main(String args[]) {\n",
    "\tint maxNumber = 25;\n",
    "\tSystem.out.print(\"Fibonacci Series of \"+maxNumber+\" numbers: \");\n",
    "\tfor(int i = 0; i < maxNumber; i++){\n",
    "\t\t\tSystem.out.print(fibonacciRecursion(i) +\" \");\n",
    "\t\t}\n",
    "\t}\n",
    "}\n",
    "fibo.main(null)"
   ]
  },
  {
   "cell_type": "markdown",
   "id": "c2863c15",
   "metadata": {},
   "source": [
    "## Results\n",
    "Runtimes:\n",
    "- For Loop: 0.2 seconds.\n",
    "- While Loop: 0.2 seconds.\n",
    "- Input: dependent on user input but disregarding that it's 0.2 seconds.\n",
    "- Recursion: 1.2 seconds.\n",
    "\n",
    "Difference between For Loop and While Loop:\n",
    "- For Loop is used for repeating a sequence a pre-determined number of times.\n",
    "- While Loop is used for repeating a sequence until a condition is no longer met."
   ]
  }
 ],
 "metadata": {
  "kernelspec": {
   "display_name": "Java",
   "language": "java",
   "name": "java"
  },
  "language_info": {
   "codemirror_mode": "java",
   "file_extension": ".jshell",
   "mimetype": "text/x-java-source",
   "name": "Java",
   "pygments_lexer": "java",
   "version": "18.0.2.1+1-1"
  }
 },
 "nbformat": 4,
 "nbformat_minor": 5
}
