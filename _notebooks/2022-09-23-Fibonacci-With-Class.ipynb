{
 "cells": [
  {
   "cell_type": "markdown",
   "id": "1fd80d2f",
   "metadata": {},
   "source": [
    "# Fibonacci with Class\n",
    "> Fibonacci sequence using 4 different methods. And Fibonacci using Extends and Inheritance.\n",
    "\n",
    "- toc: true \n",
    "- badges: true\n",
    "- comments: true\n",
    "- categories: [jupyter,week-5]"
   ]
  },
  {
   "cell_type": "markdown",
   "id": "08af63a7",
   "metadata": {},
   "source": [
    "### Constants\n",
    "- x1: first number in sequence\n",
    "- x2: second number in sequence\n",
    "- x3: sum on x1 and x2\n",
    "- n: amount of numbers in sequence\n",
    "- i: count"
   ]
  },
  {
   "cell_type": "markdown",
   "id": "2f31a05a",
   "metadata": {},
   "source": [
    "## For Loop\n",
    "- Loops sequence (fibonacci math) **FOR** as long as the max number is greater than or equal to the count (i)."
   ]
  },
  {
   "cell_type": "code",
   "execution_count": 14,
   "id": "04069ad5",
   "metadata": {},
   "outputs": [
    {
     "name": "stdout",
     "output_type": "stream",
     "text": [
      "25 numbers in sequence:\n",
      "0 1 1 2 3 5 8 13 21 34 55 89 144 233 377 610 987 1597 2584 4181 6765 10946 17711 28657 46368 "
     ]
    }
   ],
   "source": [
    "// For Loop\n",
    "public class fibo {\n",
    " \n",
    "\tpublic static void main(String[] args) \n",
    "\t{\n",
    "\t\t// n = the number of numbers in sequence\n",
    "\t\t int n = 25; \n",
    "\t\t int x1 = 0;\n",
    "\t\t int x2 = 1;\n",
    "\t\t \n",
    "\t        System.out.print(n+ \" numbers in sequence:\\n\");\n",
    " \n",
    "\t        for (int i = 1; i <= n; ++i)\n",
    "\t        {\n",
    "\t            System.out.print(x1 + \" \");\n",
    "\t      \n",
    "\t\t\t\t// x1 = first number, x2 = second number, x3 is the sum of 1 and two.\n",
    "\t            int x3 = x1 + x2;\n",
    "\t            x1 = x2;\n",
    "\t            x2 = x3;\n",
    "\t        }\n",
    "\t}\n",
    "}\n",
    "fibo.main(null);"
   ]
  },
  {
   "cell_type": "markdown",
   "id": "aa843666",
   "metadata": {},
   "source": [
    "## While Loop\n",
    "- Loops sequence (fibonacci math) **WHILE** the max number is greater than or equal to the count (i)."
   ]
  },
  {
   "cell_type": "code",
   "execution_count": 15,
   "id": "a2b50b01",
   "metadata": {},
   "outputs": [
    {
     "name": "stdout",
     "output_type": "stream",
     "text": [
      "25 numbers in sequence:\n",
      "0 1 1 2 3 5 8 13 21 34 55 89 144 233 377 610 987 1597 2584 4181 6765 10946 17711 28657 46368 "
     ]
    }
   ],
   "source": [
    "// While Loop\n",
    "class fibo {\n",
    "    public static void main(String[] args) {\n",
    "        try {\n",
    "            int x1 = 0, x2 = 1, n = 25;\n",
    "\n",
    "            System.out.print(n+ \" numbers in sequence:\\n\");\n",
    "            int i = 0;\n",
    "\n",
    "            while (i < n) {\n",
    "\n",
    "                System.out.print(x1 + \" \");\n",
    "\n",
    "                int x3 = x2 + x1;\n",
    "                x1 = x2;\n",
    "                x2 = x3;\n",
    "                i = i + 1;\n",
    "            }\n",
    "\n",
    "\n",
    "        } catch (Exception e) {  \n",
    "            System.out.println(\"Input must be an integer  \" + e);\n",
    "        }\n",
    "        \n",
    "    }\n",
    "}\n",
    "fibo.main(null)"
   ]
  },
  {
   "cell_type": "markdown",
   "id": "22ddc471",
   "metadata": {},
   "source": [
    "## Input\n",
    "- Uses a while loop for takes in the users **INPUT** instead of a pre-registered max number."
   ]
  },
  {
   "cell_type": "code",
   "execution_count": 16,
   "id": "dc26e947",
   "metadata": {},
   "outputs": [
    {
     "name": "stdout",
     "output_type": "stream",
     "text": [
      "Type in amount of numbers for sequence  -->  25\n",
      "0 1 1 2 3 5 8 13 21 34 55 89 144 233 377 610 987 1597 2584 4181 6765 10946 17711 28657 46368 "
     ]
    }
   ],
   "source": [
    "// Input\n",
    "class fibo {\n",
    "    public static void main(String[] args) {\n",
    "        Scanner input;\n",
    "\n",
    "        input = new Scanner(System.in);\n",
    "        System.out.print(\"Type in amount of numbers for sequence  -->  \");\n",
    "        try {\n",
    "            int n = input.nextInt();\n",
    "            int x1 = 0, x2 = 1;\n",
    "            System.out.print(n + \"\\n\");\n",
    "\n",
    "            int i = 0;\n",
    "\n",
    "            while (i < n) {\n",
    "\n",
    "                System.out.print(x1 + \" \");\n",
    "\n",
    "                int x3 = x2 + x1;\n",
    "                x1 = x2;\n",
    "                x2 = x3;\n",
    "                i = i + 1;\n",
    "            }\n",
    "\n",
    "\n",
    "        } catch (Exception e) {  \n",
    "            System.out.println(\"Input must be an integer  \" + e);\n",
    "        }\n",
    "        \n",
    "    }\n",
    "}\n",
    "fibo.main(null)"
   ]
  },
  {
   "cell_type": "markdown",
   "id": "da4355ae",
   "metadata": {},
   "source": [
    "## Recursion\n",
    "- Recalls itself (**RECURSES**) (fibonacci math) for as long as the max number is greater than the count (i)."
   ]
  },
  {
   "cell_type": "code",
   "execution_count": 17,
   "id": "1eca04c5",
   "metadata": {},
   "outputs": [
    {
     "name": "stdout",
     "output_type": "stream",
     "text": [
      "25 numbers in sequence:\n",
      "0 1 1 2 3 5 8 13 21 34 55 89 144 233 377 610 987 1597 2584 4181 6765 10946 17711 28657 46368 "
     ]
    }
   ],
   "source": [
    "// Recursion\n",
    "public class fibo{\n",
    "\tpublic static int fibonacciRecursion(int x){\n",
    "\tif(x == 0){\n",
    "\t\treturn 0;\n",
    "\t}\n",
    "\tif(x == 1 || x == 2){\n",
    "\t\treturn 1;\n",
    "\t}\n",
    "\treturn fibonacciRecursion(x-2) + fibonacciRecursion(x-1);\n",
    "\t}\n",
    "    public static void main(String args[]) {\n",
    "\tint n = 25;\n",
    "\tSystem.out.print(n + \" numbers in sequence:\\n\");\n",
    "\tfor(int i = 0; i < n; i++){\n",
    "\t\t\tSystem.out.print(fibonacciRecursion(i) + \" \");\n",
    "\t\t}\n",
    "\t}\n",
    "}\n",
    "fibo.main(null)"
   ]
  },
  {
   "cell_type": "markdown",
   "id": "d5f4cc01",
   "metadata": {},
   "source": [
    "## Summary \n",
    "Run Times\n",
    "- For Loop: 0.1 seconds\n",
    "- While Loop: 0.1 seconds\n",
    "- Input: 0.1 seconds disregarding user\n",
    "- Recursion: 0.1 seconds\n",
    "\n",
    "Difference between For Loop and While Loop\n",
    "- A For Loop will loop for an already predetermined amount of times. \n",
    "- A While Loop will continue to loop until a condition is no longer met."
   ]
  },
  {
   "cell_type": "markdown",
   "id": "8cd3421e",
   "metadata": {},
   "source": [
    "# Using Extends"
   ]
  },
  {
   "cell_type": "code",
   "execution_count": 18,
   "id": "fa9d0e98",
   "metadata": {},
   "outputs": [
    {
     "name": "stdout",
     "output_type": "stream",
     "text": [
      "Init method = Stream\n",
      "fibonacci Number 20 = 4181\n",
      "fibonacci List = [0, 1, 1, 2, 3, 5, 8, 13, 21, 34, 55, 89, 144, 233, 377, 610, 987, 1597, 2584, 4181]\n",
      "fibonacci Hashmap = {0=[0], 1=[0, 1], 2=[0, 1, 1], 3=[0, 1, 1, 2], 4=[0, 1, 1, 2, 3], 5=[0, 1, 1, 2, 3, 5], 6=[0, 1, 1, 2, 3, 5, 8], 7=[0, 1, 1, 2, 3, 5, 8, 13], 8=[0, 1, 1, 2, 3, 5, 8, 13, 21], 9=[0, 1, 1, 2, 3, 5, 8, 13, 21, 34], 10=[0, 1, 1, 2, 3, 5, 8, 13, 21, 34, 55], 11=[0, 1, 1, 2, 3, 5, 8, 13, 21, 34, 55, 89], 12=[0, 1, 1, 2, 3, 5, 8, 13, 21, 34, 55, 89, 144], 13=[0, 1, 1, 2, 3, 5, 8, 13, 21, 34, 55, 89, 144, 233], 14=[0, 1, 1, 2, 3, 5, 8, 13, 21, 34, 55, 89, 144, 233, 377], 15=[0, 1, 1, 2, 3, 5, 8, 13, 21, 34, 55, 89, 144, 233, 377, 610], 16=[0, 1, 1, 2, 3, 5, 8, 13, 21, 34, 55, 89, 144, 233, 377, 610, 987], 17=[0, 1, 1, 2, 3, 5, 8, 13, 21, 34, 55, 89, 144, 233, 377, 610, 987, 1597], 18=[0, 1, 1, 2, 3, 5, 8, 13, 21, 34, 55, 89, 144, 233, 377, 610, 987, 1597, 2584], 19=[0, 1, 1, 2, 3, 5, 8, 13, 21, 34, 55, 89, 144, 233, 377, 610, 987, 1597, 2584, 4181]}\n",
      "fibonacci Sequence 1 = [0]\n",
      "fibonacci Sequence 2 = [0, 1]\n",
      "fibonacci Sequence 3 = [0, 1, 1]\n",
      "fibonacci Sequence 4 = [0, 1, 1, 2]\n",
      "fibonacci Sequence 5 = [0, 1, 1, 2, 3]\n",
      "fibonacci Sequence 6 = [0, 1, 1, 2, 3, 5]\n",
      "fibonacci Sequence 7 = [0, 1, 1, 2, 3, 5, 8]\n",
      "fibonacci Sequence 8 = [0, 1, 1, 2, 3, 5, 8, 13]\n",
      "fibonacci Sequence 9 = [0, 1, 1, 2, 3, 5, 8, 13, 21]\n",
      "fibonacci Sequence 10 = [0, 1, 1, 2, 3, 5, 8, 13, 21, 34]\n",
      "fibonacci Sequence 11 = [0, 1, 1, 2, 3, 5, 8, 13, 21, 34, 55]\n",
      "fibonacci Sequence 12 = [0, 1, 1, 2, 3, 5, 8, 13, 21, 34, 55, 89]\n",
      "fibonacci Sequence 13 = [0, 1, 1, 2, 3, 5, 8, 13, 21, 34, 55, 89, 144]\n",
      "fibonacci Sequence 14 = [0, 1, 1, 2, 3, 5, 8, 13, 21, 34, 55, 89, 144, 233]\n",
      "fibonacci Sequence 15 = [0, 1, 1, 2, 3, 5, 8, 13, 21, 34, 55, 89, 144, 233, 377]\n",
      "fibonacci Sequence 16 = [0, 1, 1, 2, 3, 5, 8, 13, 21, 34, 55, 89, 144, 233, 377, 610]\n",
      "fibonacci Sequence 17 = [0, 1, 1, 2, 3, 5, 8, 13, 21, 34, 55, 89, 144, 233, 377, 610, 987]\n",
      "fibonacci Sequence 18 = [0, 1, 1, 2, 3, 5, 8, 13, 21, 34, 55, 89, 144, 233, 377, 610, 987, 1597]\n",
      "fibonacci Sequence 19 = [0, 1, 1, 2, 3, 5, 8, 13, 21, 34, 55, 89, 144, 233, 377, 610, 987, 1597, 2584]\n",
      "fibonacci Sequence 20 = [0, 1, 1, 2, 3, 5, 8, 13, 21, 34, 55, 89, 144, 233, 377, 610, 987, 1597, 2584, 4181]\n"
     ]
    }
   ],
   "source": [
    "/*\n",
    " * Creator: Nighthawk Coding Society\n",
    " * Mini Lab Name: Fibonacci sequence, featuring a Stream Algorithm\n",
    " * \n",
    " */\n",
    "\n",
    "import java.util.ArrayList;  \n",
    "import java.util.HashMap;\n",
    "import java.util.stream.Stream;\n",
    "\n",
    "/* Objective will require changing to abstract class with one or more abstract methods below */\n",
    "public class Fibo {\n",
    "    String name;  // name or title of method\n",
    "    int size;  // nth sequence\n",
    "    int hashID;  // counter for hashIDs in hash map\n",
    "    ArrayList<Long> list;   // captures current Fibonacci sequence\n",
    "    HashMap<Integer, Object> hash;  // captures each sequence leading to final result\n",
    "\n",
    "    /*\n",
    "     Zero parameter constructor uses Telescoping technique to allow setting of the required value nth\n",
    "     @param: none\n",
    "     */\n",
    "    public Fibo() {\n",
    "        this(20); // telescope to avoid code duplication, using default as 20\n",
    "    }\n",
    "\n",
    "    /*\n",
    "     Construct the nth fibonacci number\n",
    "     @param: nth number, the value is constrained to 92 because of overflow in a long\n",
    "     */\n",
    "    public Fibo(int nth) {\n",
    "        this.size = nth;\n",
    "        this.list = new ArrayList<>();\n",
    "        this.hashID = 0;\n",
    "        this.hash = new HashMap<>();\n",
    "        //initialize fibonacci and time mvc\n",
    "        this.init();\n",
    "    }\n",
    "\n",
    "    /*\n",
    "     This Method should be \"abstract\"\n",
    "     Leave method as protected, as it is only authorized to extender of the class\n",
    "     Make new class that extends and defines init()\n",
    "     Inside references within this class would change from this to super\n",
    "     Repeat process using for, while, recursion\n",
    "     */\n",
    "    protected void init() {\n",
    "        this.name = \"Stream\";\n",
    "        Stream.iterate(new long[]{0, 1}, f -> new long[]{f[1], f[0] + f[1]})\n",
    "            .limit(this.size)\n",
    "            .forEach(f -> this.setData(f[0]) );\n",
    "    }\n",
    "\n",
    "    /*\n",
    "     Number is added to fibonacci sequence, current state of \"list\" is added to hash for hashID \"num\"\n",
    "     */\n",
    "    public void setData(long num) {\n",
    "        list.add(num);\n",
    "        hash.put(this.hashID++, list.clone());\n",
    "    }\n",
    "\n",
    "    /*\n",
    "     Custom Getter to return last element in fibonacci sequence\n",
    "     */\n",
    "    public long getNth() {\n",
    "        return list.get(this.size - 1);\n",
    "    }\n",
    "\n",
    "    /*\n",
    "     Custom Getter to return last fibonacci sequence in HashMap\n",
    "     */\n",
    "    public Object getNthSeq(int i) {\n",
    "        return hash.get(i);\n",
    "    }\n",
    "\n",
    "    /*\n",
    "     Console/Terminal supported print method\n",
    "     */\n",
    "    public void print() {\n",
    "        System.out.println(\"Init method = \" + this.name);\n",
    "        System.out.println(\"fibonacci Number \" + this.size + \" = \" + this.getNth());\n",
    "        System.out.println(\"fibonacci List = \" + this.list);\n",
    "        System.out.println(\"fibonacci Hashmap = \" + this.hash);\n",
    "        for (int i=0 ; i<this.size; i++ ) {\n",
    "            System.out.println(\"fibonacci Sequence \" + (i+1) + \" = \" + this.getNthSeq(i));\n",
    "        }\n",
    "    }\n",
    "\n",
    "    /*\n",
    "    Tester class method.  If this becomes abstract you will not be able to test it directly ...\n",
    "    Change this method to  call \"main\" class of each of the extended classes\n",
    "     */\n",
    "    static public void main(String[] args) {\n",
    "        Fibo fib = new Fibo();\n",
    "        fib.print();\n",
    "    }\n",
    "}\n",
    "Fibo.main(null);"
   ]
  },
  {
   "cell_type": "markdown",
   "id": "73743301",
   "metadata": {},
   "source": [
    "## While Loop Extends"
   ]
  },
  {
   "cell_type": "code",
   "execution_count": 19,
   "id": "e98da51e",
   "metadata": {},
   "outputs": [
    {
     "name": "stdout",
     "output_type": "stream",
     "text": [
      "Init method = While Loop\n",
      "fibonacci Number 10 = 34\n",
      "fibonacci List = [0, 1, 1, 2, 3, 5, 8, 13, 21, 34]\n",
      "fibonacci Hashmap = {0=[0], 1=[0, 1], 2=[0, 1, 1], 3=[0, 1, 1, 2], 4=[0, 1, 1, 2, 3], 5=[0, 1, 1, 2, 3, 5], 6=[0, 1, 1, 2, 3, 5, 8], 7=[0, 1, 1, 2, 3, 5, 8, 13], 8=[0, 1, 1, 2, 3, 5, 8, 13, 21], 9=[0, 1, 1, 2, 3, 5, 8, 13, 21, 34]}\n",
      "fibonacci Sequence 1 = [0]\n",
      "fibonacci Sequence 2 = [0, 1]\n",
      "fibonacci Sequence 3 = [0, 1, 1]\n",
      "fibonacci Sequence 4 = [0, 1, 1, 2]\n",
      "fibonacci Sequence 5 = [0, 1, 1, 2, 3]\n",
      "fibonacci Sequence 6 = [0, 1, 1, 2, 3, 5]\n",
      "fibonacci Sequence 7 = [0, 1, 1, 2, 3, 5, 8]\n",
      "fibonacci Sequence 8 = [0, 1, 1, 2, 3, 5, 8, 13]\n",
      "fibonacci Sequence 9 = [0, 1, 1, 2, 3, 5, 8, 13, 21]\n",
      "fibonacci Sequence 10 = [0, 1, 1, 2, 3, 5, 8, 13, 21, 34]\n"
     ]
    }
   ],
   "source": [
    "public class FiboWhile extends Fibo {\n",
    "\n",
    "    public FiboWhile() {\n",
    "        this(10); // telescope to avoid code duplication, using default\n",
    "    }\n",
    "  \n",
    "    public FiboWhile(int nth) {\n",
    "        this.size = nth;\n",
    "        this.list = new ArrayList<>();\n",
    "        this.hashID = 0;\n",
    "        this.hash = new HashMap<>();\n",
    "        //initialize fibonacci and time mvc\n",
    "        this.init();\n",
    "    }\n",
    "  \n",
    "    static public void main(String[] args) {\n",
    "        FiboWhile wFib  = new FiboWhile();\n",
    "        wFib.print();\n",
    "    }\n",
    "  \n",
    "    // Custom init using while loop instead\n",
    "    protected void init() {\n",
    "        this.name = \"While Loop\";\n",
    "        int i = 0;\n",
    "        // new long array with only 0\n",
    "        long[] f = new long[] {0,1};\n",
    "        //while i is less than the length desired\n",
    "        while (i < this.size) {\n",
    "            // sets data first, then adds to f\n",
    "            this.setData(f[0]);\n",
    "            f = new long[] {f[1], f[0] + f[1]};\n",
    "            // adds to counter\n",
    "            i++;\n",
    "        }\n",
    "    }\n",
    "  }\n",
    "  \n",
    "  FiboWhile.main(null)"
   ]
  },
  {
   "cell_type": "markdown",
   "id": "96be43b2",
   "metadata": {},
   "source": [
    "## Recursion Extends"
   ]
  },
  {
   "cell_type": "code",
   "execution_count": 20,
   "id": "13566851",
   "metadata": {},
   "outputs": [
    {
     "name": "stdout",
     "output_type": "stream",
     "text": [
      "Init method = Recursion\n",
      "fibonacci Number 10 = 34\n",
      "fibonacci List = [0, 1, 1, 2, 3, 5, 8, 13, 21, 34]\n",
      "fibonacci Hashmap = {0=[0], 1=[0, 1], 2=[0, 1, 1], 3=[0, 1, 1, 2], 4=[0, 1, 1, 2, 3], 5=[0, 1, 1, 2, 3, 5], 6=[0, 1, 1, 2, 3, 5, 8], 7=[0, 1, 1, 2, 3, 5, 8, 13], 8=[0, 1, 1, 2, 3, 5, 8, 13, 21], 9=[0, 1, 1, 2, 3, 5, 8, 13, 21, 34]}\n",
      "fibonacci Sequence 1 = [0]\n",
      "fibonacci Sequence 2 = [0, 1]\n",
      "fibonacci Sequence 3 = [0, 1, 1]\n",
      "fibonacci Sequence 4 = [0, 1, 1, 2]\n",
      "fibonacci Sequence 5 = [0, 1, 1, 2, 3]\n",
      "fibonacci Sequence 6 = [0, 1, 1, 2, 3, 5]\n",
      "fibonacci Sequence 7 = [0, 1, 1, 2, 3, 5, 8]\n",
      "fibonacci Sequence 8 = [0, 1, 1, 2, 3, 5, 8, 13]\n",
      "fibonacci Sequence 9 = [0, 1, 1, 2, 3, 5, 8, 13, 21]\n",
      "fibonacci Sequence 10 = [0, 1, 1, 2, 3, 5, 8, 13, 21, 34]\n"
     ]
    }
   ],
   "source": [
    "public class FiboRecur extends Fibo {\n",
    "\n",
    "    public FiboRecur() {\n",
    "        this(10); // telescope to avoid code duplication, using default\n",
    "    }\n",
    "  \n",
    "    public FiboRecur(int nth) {\n",
    "        this.size = nth;\n",
    "        this.list = new ArrayList<>();\n",
    "        this.hashID = 0;\n",
    "        this.hash = new HashMap<>();\n",
    "        //initialize fibonacci and time mvc\n",
    "        this.init();\n",
    "    }\n",
    "  \n",
    "    static public void main(String[] args) {\n",
    "        FiboRecur rFib  = new FiboRecur();\n",
    "        rFib.print();\n",
    "    }\n",
    "  \n",
    "    // Recursion function, using int i as a counter\n",
    "    protected void recur(long[] f, int i) {\n",
    "        // Sets data using beginning value\n",
    "        this.setData(f[0]);\n",
    "        // Cretes new long\n",
    "        f = new long[]{f[1], f[0] + f[1]};\n",
    "        // Adds to counter\n",
    "        i++;\n",
    "        if (i < this.size) {\n",
    "            // Recusion continues if size limit has not been reached\n",
    "            this.recur(f, i);\n",
    "        }\n",
    "        \n",
    "    }\n",
    "  \n",
    "    // Custom init using recursion loop instead\n",
    "    protected void init() {\n",
    "        this.name = \"Recursion\";\n",
    "        // Uses int i as a counter for recusion, also creates initial long[]\n",
    "        int i = 0;\n",
    "        long[] f = new long[] {0,1};\n",
    "        // input long and counter i into recursion function\n",
    "        this.recur(f, i);\n",
    "    }\n",
    "  }\n",
    "  \n",
    "  FiboRecur.main(null)"
   ]
  },
  {
   "cell_type": "markdown",
   "id": "f0d96567",
   "metadata": {},
   "source": [
    "## For Loop Extends"
   ]
  },
  {
   "cell_type": "code",
   "execution_count": 21,
   "id": "fb885a34",
   "metadata": {},
   "outputs": [
    {
     "name": "stdout",
     "output_type": "stream",
     "text": [
      "Init method = Recursion\n",
      "fibonacci Number 10 = 34\n",
      "fibonacci List = [0, 1, 1, 2, 3, 5, 8, 13, 21, 34]\n",
      "fibonacci Hashmap = {0=[0], 1=[0, 1], 2=[0, 1, 1], 3=[0, 1, 1, 2], 4=[0, 1, 1, 2, 3], 5=[0, 1, 1, 2, 3, 5], 6=[0, 1, 1, 2, 3, 5, 8], 7=[0, 1, 1, 2, 3, 5, 8, 13], 8=[0, 1, 1, 2, 3, 5, 8, 13, 21], 9=[0, 1, 1, 2, 3, 5, 8, 13, 21, 34]}\n",
      "fibonacci Sequence 1 = [0]\n",
      "fibonacci Sequence 2 = [0, 1]\n",
      "fibonacci Sequence 3 = [0, 1, 1]\n",
      "fibonacci Sequence 4 = [0, 1, 1, 2]\n",
      "fibonacci Sequence 5 = [0, 1, 1, 2, 3]\n",
      "fibonacci Sequence 6 = [0, 1, 1, 2, 3, 5]\n",
      "fibonacci Sequence 7 = [0, 1, 1, 2, 3, 5, 8]\n",
      "fibonacci Sequence 8 = [0, 1, 1, 2, 3, 5, 8, 13]\n",
      "fibonacci Sequence 9 = [0, 1, 1, 2, 3, 5, 8, 13, 21]\n",
      "fibonacci Sequence 10 = [0, 1, 1, 2, 3, 5, 8, 13, 21, 34]\n"
     ]
    }
   ],
   "source": [
    "public class FiboFor extends Fibo {\n",
    "\n",
    "    public FiboFor() {\n",
    "        this(10); // telescope to avoid code duplication, using default\n",
    "    }\n",
    "\n",
    "    public FiboFor(int nth) {\n",
    "        this.size = nth;\n",
    "        this.list = new ArrayList<>();\n",
    "        this.hashID = 0;\n",
    "        this.hash = new HashMap<>();\n",
    "        //initialize fibonacci and time mvc\n",
    "        this.init();\n",
    "    }\n",
    "\n",
    "    static public void main(String[] args) {\n",
    "        FiboRecur rFib  = new FiboRecur();\n",
    "        rFib.print();\n",
    "    }\n",
    "\n",
    "    // Custom init using for loop instead\n",
    "    protected void init() {\n",
    "        this.name = \"For loop\";\n",
    "        // creates initial long[]\n",
    "        long[] f = new long[] {0,1};\n",
    "        \n",
    "        // iterates through until reaches desired length\n",
    "        for (int i = 0; i < this.size; i++) {\n",
    "            // sets data, then updates f\n",
    "            this.setData(f[0]);\n",
    "            f = new long[] {f[1], f[0] + f[1]};\n",
    "        }\n",
    "    }\n",
    "}\n",
    "\n",
    "FiboFor.main(null)"
   ]
  }
 ],
 "metadata": {
  "kernelspec": {
   "display_name": "Java",
   "language": "java",
   "name": "java"
  },
  "language_info": {
   "codemirror_mode": "java",
   "file_extension": ".jshell",
   "mimetype": "text/x-java-source",
   "name": "java",
   "pygments_lexer": "java",
   "version": "18.0.2.1+1-1"
  }
 },
 "nbformat": 4,
 "nbformat_minor": 5
}
